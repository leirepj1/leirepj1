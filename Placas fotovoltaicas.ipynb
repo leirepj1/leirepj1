{
  "nbformat": 4,
  "nbformat_minor": 0,
  "metadata": {
    "colab": {
      "provenance": []
    },
    "kernelspec": {
      "name": "python3",
      "display_name": "Python 3"
    },
    "language_info": {
      "name": "python"
    }
  },
  "cells": [
    {
      "cell_type": "markdown",
      "source": [
        "# **PRÁCTICA 2:  Predicción de la radiación solar en plantas fotovoltaicas**\n",
        "---------\n",
        "Jose Manuel Flores Emmi y Leire Pantoja Jiménez"
      ],
      "metadata": {
        "id": "PP9um85_X_Fv"
      }
    },
    {
      "cell_type": "markdown",
      "source": [
        "## **Introducción**\n",
        "\n",
        "En el escenario actual de evolución hacia fuentes de energía más sostenibles, las tecnologías de generación eléctrica basadas en fuentes renovables tienen un papel fundamental en el ámbito de energía global. Siguiendo esta línea, la energía solar ha ganado protagonismo como una fuente limpia y abundante de electricidad. Sin embargo, la variabilidad e incertidumbre están siempre presentes debido a la difícil planificación y organización de plantas solares eficientes.\n",
        "\n",
        "En este contexto, la predicción precisa de la radiación solar diaria se puede definir como una herramienta esencial para las empresas productoras de energía solar. Por lo tanto, este estudio se centra en desarrollar y comparar modelos de regresión en Python para  predecir la radiación solar diaria en una planta solar específica, en concreto, la planta solar de Oklahoma.\n",
        "\n",
        "A través del análisis de datos y la implementación de algoritmos de regresión, se explorarán métodos de entrenamiento simples y avanzados. Se utilizarán datos meteorológicos del pasado, aprovechando así la metodología del aprendizaje automático para la construcción de modelos predictivos robustos.\n",
        "\n",
        "Las variables de entrada consisten en las predicciones para el día siguiente de 15 variables meteorológicas. Los datos han sido generados por una simulación de ecuaciones de la atmósfera denominada NWP (Numerical Weather Prediction). Dichas variables han sido generadas para cinco momentos del día siguiente: 12h, 15h, 18h, 21h y 24 UTC. La variable \"salida\" representa la radiación solar acumulada durante todo el día.\n",
        "\n",
        "Es necesario resaltar que este proyecto se llevará a cabo como si fuera una competición por lo que, en un primer lugar, se cuenta con un conjunto de 12 años con los que se realizarán varias pruebas para obtener el mejor modelo posible y una vez se tiene ese modelo se obtiene una estimación de lo que se podría obtener en una competición. Por otro lado se tiene otro fichero con los datos pertenecientes a 2 años pero sin la variable respuesta, a estos datos se les aplicará el modelo final para simular los datos que serían enviados a la competición.\n",
        "\n",
        "Para finalizar, el objetivo concreto del presente documento es ofrecer una solución precisa y práctica a la estimación diaria de radiación solar de la planta de Oklahoma, es decir, este estudio constituye una mejora de la eficiencia operativa de dicha planta solar, contribuyendo así con las energías sostenibles."
      ],
      "metadata": {
        "id": "nIaJWpjnaJNc"
      }
    },
    {
      "cell_type": "code",
      "execution_count": null,
      "metadata": {
        "colab": {
          "base_uri": "https://localhost:8080/"
        },
        "id": "zeW1YYO4_EO8",
        "outputId": "67d9e165-1c3f-4467-c76c-7bac1b85050b"
      },
      "outputs": [
        {
          "output_type": "stream",
          "name": "stdout",
          "text": [
            "Requirement already satisfied: pyarrow in /usr/local/lib/python3.10/dist-packages (10.0.1)\n",
            "Requirement already satisfied: numpy>=1.16.6 in /usr/local/lib/python3.10/dist-packages (from pyarrow) (1.23.5)\n"
          ]
        }
      ],
      "source": [
        "pip install pyarrow"
      ]
    },
    {
      "cell_type": "code",
      "source": [],
      "metadata": {
        "id": "iEeXyZvRxW0R"
      },
      "execution_count": null,
      "outputs": []
    },
    {
      "cell_type": "markdown",
      "source": [
        "## **Análisis Exploratorio de datos (EDA)**\n",
        "\n",
        "En primer lugar se realizará un Análisis Exploratorio de los datos en cuestión. Este es un paso de vital importancia en cualquier ámbito en donde se trabaja con una gran cantidad de datos.\n",
        "\n",
        "Este paso nos permitirá principalmente identificar la diversidad de variables y características disponibles en nuestro conjunto de datos.\n",
        "\n",
        "Por otra parte, el EDA permitirá tanto identificar la cantidad y el porcentaje de valores faltantes o missing values que poseen las variables para el estudio como definir si es necesario realizar alguna transformación de los tipos de variables con los que se cuentan. Es decir, el EDA es un paso de crucial importancia para definir correctamente el preprocesamiento que se va a utilizar y conocer con profundidad los datos en estudio.\n",
        "\n",
        "Se procede a cargar todas las librerías juntas de modo que si ocurre algún error proveniente de las mismas, será más fácil identificarlo y resolverlo."
      ],
      "metadata": {
        "id": "oRtlTYEzeoeV"
      }
    },
    {
      "cell_type": "code",
      "source": [
        "from google.colab import drive\n",
        "drive.mount('/content/drive')"
      ],
      "metadata": {
        "colab": {
          "base_uri": "https://localhost:8080/"
        },
        "id": "WRnj5NVwFznN",
        "outputId": "2d1b682f-f0db-4ae1-e92b-3d90bafcf83a"
      },
      "execution_count": null,
      "outputs": [
        {
          "output_type": "stream",
          "name": "stdout",
          "text": [
            "Drive already mounted at /content/drive; to attempt to forcibly remount, call drive.mount(\"/content/drive\", force_remount=True).\n"
          ]
        }
      ]
    },
    {
      "cell_type": "code",
      "source": [
        "#Importar librerías\n",
        "\n",
        "import pyarrow.feather as feather\n",
        "import numpy as np\n",
        "import pandas as pd\n",
        "import matplotlib.pyplot as plt\n",
        "from sklearn.preprocessing import StandardScaler\n",
        "from sklearn.neighbors import KNeighborsRegressor\n",
        "from sklearn.neighbors import KNeighborsClassifier\n",
        "from sklearn.metrics import accuracy_score\n",
        "from sklearn.metrics import precision_score\n",
        "from sklearn.metrics import recall_score\n",
        "from sklearn.metrics import r2_score\n",
        "from sklearn.metrics import f1_score\n",
        "from sklearn.tree import DecisionTreeRegressor\n",
        "from sklearn.compose import ColumnTransformer\n",
        "from sklearn.metrics import confusion_matrix\n",
        "from sklearn.model_selection import cross_val_score\n",
        "from sklearn.metrics import confusion_matrix\n",
        "import seaborn as sns\n",
        "\n",
        "\n",
        "from sklearn.datasets import load_iris\n",
        "from sklearn.model_selection import GridSearchCV, cross_val_score, KFold\n",
        "from sklearn.pipeline import Pipeline\n",
        "from sklearn.preprocessing import StandardScaler\n",
        "from sklearn.preprocessing import OneHotEncoder\n",
        "from sklearn.tree import DecisionTreeClassifier\n",
        "from sklearn.impute import SimpleImputer\n",
        "from sklearn.pipeline import FeatureUnion\n",
        "from sklearn.tree import plot_tree\n",
        "from sklearn.metrics import confusion_matrix\n",
        "import seaborn as sns\n",
        "from sklearn.experimental import enable_iterative_imputer\n",
        "from sklearn.impute import IterativeImputer\n",
        "from sklearn.feature_selection import VarianceThreshold\n",
        "from sklearn.model_selection import train_test_split\n",
        "from sklearn.preprocessing import FunctionTransformer\n",
        "from sklearn.model_selection import TimeSeriesSplit, GridSearchCV\n",
        "from sklearn.preprocessing import StandardScaler, RobustScaler, MaxAbsScaler\n",
        "from sklearn.svm import SVR\n",
        "from sklearn.model_selection import RandomizedSearchCV\n",
        "import datetime\n",
        "import warnings\n",
        "\n",
        "# Especifico la ruta del archivo\n",
        "ruta_del_archivo = '/content/drive/MyDrive/Práctica 2/disp.feather'\n",
        "\n",
        "# Leer el archivo\n",
        "tabla = feather.read_table(ruta_del_archivo)\n",
        "\n",
        "# Creamos el data frame\n",
        "df = tabla.to_pandas()"
      ],
      "metadata": {
        "id": "4EXp6PVC_1wm"
      },
      "execution_count": null,
      "outputs": []
    },
    {
      "cell_type": "markdown",
      "source": [
        "Después de cargar los datos que se utilizarán para el estudio, se procede a visualizar el fichero para verificar que se ha cargado correctamente."
      ],
      "metadata": {
        "id": "IWSAfXCUivn1"
      }
    },
    {
      "cell_type": "code",
      "source": [
        "# Devolvemos el fichero disp\n",
        "print(df.head())"
      ],
      "metadata": {
        "colab": {
          "base_uri": "https://localhost:8080/"
        },
        "id": "1VK2NDdZAow4",
        "outputId": "44afd272-f6e7-4fa2-ddad-5dcfd6f967ad"
      },
      "execution_count": null,
      "outputs": [
        {
          "output_type": "stream",
          "name": "stdout",
          "text": [
            "       salida apcp_sf1_1  apcp_sf2_1  apcp_sf3_1  apcp_sf4_1  apcp_sf5_1  \\\n",
            "0  12384900.0        low         0.0         0.0    0.000000    0.000000   \n",
            "1  11908500.0        low         0.0         0.0    0.017273    0.139091   \n",
            "2  12470700.0        low         0.0         0.0    0.000000    0.000000   \n",
            "3  12725400.0        low         0.0         0.0    0.000000    0.000000   \n",
            "4  10894800.0        low         0.0         0.0    0.000000    0.000000   \n",
            "\n",
            "  dlwrf_s1_1 dlwrf_s2_1  dlwrf_s3_1 dlwrf_s4_1  ... ulwrf_t1_1  ulwrf_t2_1  \\\n",
            "0       None        low  251.901758        low  ...        0.0        high   \n",
            "1       blue     medium  271.982095     medium  ...        0.0      medium   \n",
            "2        red        low  217.133093        low  ...        0.0      medium   \n",
            "3       blue        low  226.493584        low  ...        0.0      medium   \n",
            "4        red        low  249.123549     medium  ...        0.0      medium   \n",
            "\n",
            "   ulwrf_t3_1  ulwrf_t4_1  ulwrf_t5_1 uswrf_s1_1  uswrf_s2_1  uswrf_s3_1  \\\n",
            "0        high        high  260.522389        NaN         low   49.000000   \n",
            "1      medium      medium  232.871098        NaN         low   35.545455   \n",
            "2      medium      medium  246.802193        NaN         low   50.181818   \n",
            "3      medium      medium  250.140133        NaN         low   49.909091   \n",
            "4      medium      medium  244.200684        NaN         low   48.090909   \n",
            "\n",
            "   uswrf_s4_1  uswrf_s5_1  \n",
            "0  107.181818   73.545455  \n",
            "1   72.454545         NaN  \n",
            "2  110.727273         NaN  \n",
            "3  111.727273   77.272727  \n",
            "4  106.090909         NaN  \n",
            "\n",
            "[5 rows x 76 columns]\n"
          ]
        }
      ]
    },
    {
      "cell_type": "markdown",
      "source": [
        "Exploramos el DataFrame para conocer a profundidad los aspectos más importantes del mismo."
      ],
      "metadata": {
        "id": "7LJ27f9ri5ym"
      }
    },
    {
      "cell_type": "code",
      "source": [
        "# Exploramos el data frame\n",
        "print(df.shape)\n",
        "print(df.columns)\n",
        "print(df.dtypes)\n",
        "print(df.describe())"
      ],
      "metadata": {
        "colab": {
          "base_uri": "https://localhost:8080/"
        },
        "id": "B-7gIo_jA7zm",
        "outputId": "e2305afb-eac2-4b92-8f01-5708885f724a"
      },
      "execution_count": null,
      "outputs": [
        {
          "output_type": "stream",
          "name": "stdout",
          "text": [
            "(4380, 76)\n",
            "Index(['salida', 'apcp_sf1_1', 'apcp_sf2_1', 'apcp_sf3_1', 'apcp_sf4_1',\n",
            "       'apcp_sf5_1', 'dlwrf_s1_1', 'dlwrf_s2_1', 'dlwrf_s3_1', 'dlwrf_s4_1',\n",
            "       'dlwrf_s5_1', 'dswrf_s1_1', 'dswrf_s2_1', 'dswrf_s3_1', 'dswrf_s4_1',\n",
            "       'dswrf_s5_1', 'pres_ms1_1', 'pres_ms2_1', 'pres_ms3_1', 'pres_ms4_1',\n",
            "       'pres_ms5_1', 'pwat_ea1_1', 'pwat_ea2_1', 'pwat_ea3_1', 'pwat_ea4_1',\n",
            "       'pwat_ea5_1', 'spfh_2m1_1', 'spfh_2m2_1', 'spfh_2m3_1', 'spfh_2m4_1',\n",
            "       'spfh_2m5_1', 'tcdc_ea1_1', 'tcdc_ea2_1', 'tcdc_ea3_1', 'tcdc_ea4_1',\n",
            "       'tcdc_ea5_1', 'tcolc_e1_1', 'tcolc_e2_1', 'tcolc_e3_1', 'tcolc_e4_1',\n",
            "       'tcolc_e5_1', 'tmax_2m1_1', 'tmax_2m2_1', 'tmax_2m3_1', 'tmax_2m4_1',\n",
            "       'tmax_2m5_1', 'tmin_2m1_1', 'tmin_2m2_1', 'tmin_2m3_1', 'tmin_2m4_1',\n",
            "       'tmin_2m5_1', 'tmp_2m_1_1', 'tmp_2m_2_1', 'tmp_2m_3_1', 'tmp_2m_4_1',\n",
            "       'tmp_2m_5_1', 'tmp_sfc1_1', 'tmp_sfc2_1', 'tmp_sfc3_1', 'tmp_sfc4_1',\n",
            "       'tmp_sfc5_1', 'ulwrf_s1_1', 'ulwrf_s2_1', 'ulwrf_s3_1', 'ulwrf_s4_1',\n",
            "       'ulwrf_s5_1', 'ulwrf_t1_1', 'ulwrf_t2_1', 'ulwrf_t3_1', 'ulwrf_t4_1',\n",
            "       'ulwrf_t5_1', 'uswrf_s1_1', 'uswrf_s2_1', 'uswrf_s3_1', 'uswrf_s4_1',\n",
            "       'uswrf_s5_1'],\n",
            "      dtype='object')\n",
            "salida         float64\n",
            "apcp_sf1_1    category\n",
            "apcp_sf2_1     float64\n",
            "apcp_sf3_1     float64\n",
            "apcp_sf4_1     float64\n",
            "                ...   \n",
            "uswrf_s1_1     float64\n",
            "uswrf_s2_1    category\n",
            "uswrf_s3_1     float64\n",
            "uswrf_s4_1     float64\n",
            "uswrf_s5_1     float64\n",
            "Length: 76, dtype: object\n",
            "             salida   apcp_sf2_1   apcp_sf3_1   apcp_sf4_1   apcp_sf5_1  \\\n",
            "count  4.380000e+03  4380.000000  3504.000000  4380.000000  3767.000000   \n",
            "mean   1.687247e+07     0.241592     0.450221     0.251330     0.467992   \n",
            "std    7.924037e+06     1.062819     1.943508     0.983976     1.713311   \n",
            "min    7.206000e+05     0.000000     0.000000     0.000000     0.000000   \n",
            "25%    1.137892e+07     0.000000     0.000000     0.000000     0.000000   \n",
            "50%    1.695705e+07     0.000000     0.000000     0.000000     0.000000   \n",
            "75%    2.375048e+07     0.033636     0.078182     0.013636     0.045455   \n",
            "max    3.134790e+07    22.546364    32.670000    24.410000    35.470909   \n",
            "\n",
            "        dlwrf_s3_1   dswrf_s1_1   dswrf_s2_1   dswrf_s3_1     pres_ms1_1  ...  \\\n",
            "count  4380.000000  4380.000000  4380.000000  4380.000000    3854.000000  ...   \n",
            "mean    322.404314     0.048817   157.882233   373.804919  101710.505032  ...   \n",
            "std      58.847925     0.225272   109.684711   156.910276     739.955054  ...   \n",
            "min     167.622281     0.000000     0.000000    19.090909   99314.049006  ...   \n",
            "25%     272.924120     0.000000    50.000000   239.090909  101238.119496  ...   \n",
            "50%     325.027765     0.000000   140.000000   382.227273  101641.318537  ...   \n",
            "75%     377.426168     0.000000   258.250000   518.840909  102136.893821  ...   \n",
            "max     430.194341     2.000000   370.000000   634.727273  104711.001420  ...   \n",
            "\n",
            "        tmp_sfc5_1   ulwrf_s2_1   ulwrf_s4_1   ulwrf_s5_1  ulwrf_t1_1  \\\n",
            "count  3767.000000  3898.000000  3854.000000  4380.000000      3854.0   \n",
            "mean    290.876778   382.607421   445.544419   437.516798         0.0   \n",
            "std      10.936917    51.910580    57.538475    58.287767         0.0   \n",
            "min     253.174956   217.530941   280.650185   275.581856         0.0   \n",
            "25%     282.153395   339.246954   399.840394   390.830446         0.0   \n",
            "50%     291.515123   381.992985   444.641027   437.036721         0.0   \n",
            "75%     300.705759   431.114186   494.795769   488.092401         0.0   \n",
            "max     312.978197   476.145333   571.158569   560.144282         0.0   \n",
            "\n",
            "        ulwrf_t5_1  uswrf_s1_1   uswrf_s3_1   uswrf_s4_1   uswrf_s5_1  \n",
            "count  4380.000000       482.0  4380.000000  4380.000000  3811.000000  \n",
            "mean    263.047956         0.0    75.930656   128.743607   101.531237  \n",
            "std      38.679321         0.0    30.180077    39.287358    35.126465  \n",
            "min     121.743743         0.0     2.363636     4.272727     2.727273  \n",
            "25%     244.973457         0.0    53.181818   110.340909    76.909091  \n",
            "50%     270.405656         0.0    79.090909   138.454545   107.454545  \n",
            "75%     291.828192         0.0   102.113636   156.363636   131.363636  \n",
            "max     332.185372         0.0   185.909091   446.272727   313.909091  \n",
            "\n",
            "[8 rows x 46 columns]\n"
          ]
        }
      ]
    },
    {
      "cell_type": "markdown",
      "source": [
        "Se puede observar mediante la descripción anterior de los datos que estos cuentan con un total de 4380 instancias y 76 variables, es interesante destacar que es un conjunto de datos de un tamaño considerable. Por otra parte, se pueden identificar los tipos de cada una de las variables, en este caso, se cuenta con variables neméricas y categóricas.\n",
        "\n",
        "La variable a predecir, en este caso, la variable **\"salida\"** es una variable numérica de tipo \"*float*\".\n",
        "\n",
        "Por último, se pueden observar los estadísticos de mayor relevancia de algunas de las variables numéricas, estos son: la media, el mínimo, el máximo, la desviación típica y los cuartiles de las variables."
      ],
      "metadata": {
        "id": "XTy_bLnxj_qh"
      }
    },
    {
      "cell_type": "code",
      "source": [
        "# Separamos las variables explicativas de la variable salida\n",
        "X = df.drop('salida', axis=1)\n",
        "y = df[\"salida\"]"
      ],
      "metadata": {
        "id": "3SJ6EE2gBbbd"
      },
      "execution_count": null,
      "outputs": []
    },
    {
      "cell_type": "markdown",
      "source": [
        "Es importante comprobar si existen datos faltantes ya que algunos algoritmos no pueden ejecutarse si el dataset no está completo."
      ],
      "metadata": {
        "id": "HFfv3hqNjvop"
      }
    },
    {
      "cell_type": "code",
      "source": [
        "# Calculamos los missing values\n",
        "pd.set_option('display.max_rows', 20)\n",
        "missing_values_count = X.isnull().sum()\n",
        "\n",
        "# Calculamos el porcentaje de missing values por columna\n",
        "missing_values_percent = 100*missing_values_count/len(X)\n",
        "\n",
        "# Creamos un data frame con el número y el porcentaje de missing values\n",
        "missing_values_X = pd.DataFrame({'count':missing_values_count, 'percent': missing_values_percent})\n",
        "\n",
        "# Mostramos el DataFrame ordenado por porcentaje de forma descendente\n",
        "missing_values_X.sort_values('percent', ascending=False)\n",
        "\n",
        "# Calculamos el número total de columnas con datos faltantes\n",
        "total_columns_with_missing_data = (missing_values_X['count'] > 0).sum()\n",
        "print(f'\\nNúmero total de columnas con datos faltantes: {total_columns_with_missing_data}')"
      ],
      "metadata": {
        "colab": {
          "base_uri": "https://localhost:8080/"
        },
        "id": "GXMoqLsBBrOj",
        "outputId": "83fb1849-8296-4fb5-d0bf-e2b08b92457a"
      },
      "execution_count": null,
      "outputs": [
        {
          "output_type": "stream",
          "name": "stdout",
          "text": [
            "\n",
            "Número total de columnas con datos faltantes: 19\n"
          ]
        }
      ]
    },
    {
      "cell_type": "markdown",
      "source": [
        "Se comprueba que 19 columnas tienen datos faltantes y algunas de ellas con porcentajes muy elevados. Más adelante se mostrará como resolver este problema.\n",
        "\n",
        "Otro factor a tener en cuenta es saber si hay columnas constantes, esto se refiere a columnas cuyos valor es el mismo para todas las instancias. Dichas columnas se podrán eliminar ya que no aportan información y consumen capacidad del ordenador."
      ],
      "metadata": {
        "id": "ss11aPuhlfq4"
      }
    },
    {
      "cell_type": "code",
      "source": [
        "# Verificamos los atributos constantes\n",
        "constantes = df.nunique() == 1\n",
        "\n",
        "\n",
        "# Devolvemos las columnas que son constantes\n",
        "print(constantes[constantes].index)"
      ],
      "metadata": {
        "colab": {
          "base_uri": "https://localhost:8080/"
        },
        "id": "jbdNxDuLC0NK",
        "outputId": "0324da8d-1dc1-46e5-a83e-26245b7225a9"
      },
      "execution_count": null,
      "outputs": [
        {
          "output_type": "stream",
          "name": "stdout",
          "text": [
            "Index(['pwat_ea3_1', 'spfh_2m3_1', 'tcolc_e3_1', 'tmin_2m2_1', 'tmin_2m4_1',\n",
            "       'tmp_2m_3_1', 'ulwrf_t1_1', 'uswrf_s1_1'],\n",
            "      dtype='object')\n"
          ]
        }
      ]
    },
    {
      "cell_type": "markdown",
      "source": [
        "Se obtiene que hay un total de 8 columnas constantes que serán eliminadas posteriormente. Es importante graficar la variable respuesta para comprobar que se trata de una serie temporal."
      ],
      "metadata": {
        "id": "qAge3bIpnjDS"
      }
    },
    {
      "cell_type": "code",
      "source": [
        "# Creamos el gráfico de nuestra variable salida (\"salida\")\n",
        "plt.figure(figsize=(10, 6))  # Ajustamos el tamaño del gráfico\n",
        "# crear fecha inicial\n",
        "fecha_inicial = datetime.date(1994,1,1,)\n",
        "\n",
        "# Personalizamos nuestro plot\n",
        "plt.xlabel('Fecha')\n",
        "plt.ylabel('Radiación')\n",
        "plt.title('Radiación Solar a lo largo del tiempo')\n",
        "# Crear la lista de fechas\n",
        "fechas = pd.date_range(fecha_inicial, periods = 12*365, freq='D')\n",
        "\n",
        "# Asignar la lista de fechas a una columna\n",
        "data_fecha = df.assign(Fecha=fechas)\n",
        "\n",
        "# Crear el gráfico de lineas\n",
        "plt.plot(data_fecha['Fecha'], data_fecha['salida'])    # faltan cosas creo\n",
        "# Devolvemos el gráfico\n",
        "plt.show()"
      ],
      "metadata": {
        "id": "SnhUO1JLDo_x",
        "colab": {
          "base_uri": "https://localhost:8080/",
          "height": 565
        },
        "outputId": "95f7d0e8-ff66-46cf-f4e0-3b0c81ecec7e"
      },
      "execution_count": null,
      "outputs": [
        {
          "output_type": "display_data",
          "data": {
            "text/plain": [
              "<Figure size 1000x600 with 1 Axes>"
            ],
            "image/png": "[encoded data removed]"
          },
          "metadata": {}
        }
      ]
    },
    {
      "cell_type": "markdown",
      "source": [
        "Se puede observar de forma clara en el gráfico de la variable \"salida\" que se trata de una variable que posee cierta dependencia temporal, parece lógico ya que se trata de la radiación solar acumulada durante todo el día.\n",
        "\n",
        "En este caso, se cuenta con valores que van desde el año 1994 hasta el año 2006, es decir, 12 años. Se observa que la radiación presenta cierta estacionalidad, lo que es bastante normal ya que en estaciones como primavera y verano es lógico que la radiación solar aumente, a diferencia de estaciones como otoño e invierno que es esperable que la radiación solar disminuya de manera notable. Por lo tanto, esa es la estacionalidad que se ve bastante marcada en el gráfico expuesto.\n",
        "\n",
        "Es interesante destacar que dicha estacionalidad no es igual en todos los descensos y aumentos  de la radiación, es decir, no siempre aumenta o disminuye en la misma cuantía, lo que también parece ser bastante lógico. Se observa también que los valores oscilan alrededor de una media más o menos constante, se puede afirmar que los valores oscilan alrededor de una media aproximadamente igual a 1,5.\n",
        "\n",
        "Gracias a lo anteriormente expuesto, que la variable \"salida\" posea cierta dependencia temporal es un hecho que se debe tener en cuenta cuidadosamente al momento de realizar cualquier tipo de transformación o preprocesamiento de nuestros datos ya que es interesante conservar ese comportamiento peculiar durante los distintos períodos o meses en los que fueron conseguidos y registrados los datos."
      ],
      "metadata": {
        "id": "OqpgfMBz5XHC"
      }
    },
    {
      "cell_type": "markdown",
      "source": [
        "## **Preprocesado**\n",
        "\n",
        "\n",
        "\n"
      ],
      "metadata": {
        "id": "-sIu2l5-o5iW"
      }
    },
    {
      "cell_type": "markdown",
      "source": [
        "### Métrica $R^2$\n",
        "\n",
        "El **$R^2$** es una métrica que evalúa la calidad de un modelo de regresión. Se denomina coeficiente de determinación y se calcula de la siguiente manera: R^2 = Variación explicada / Variación total. Indica la proporción de la variación en la variable respuesta que es explicada por el modelo. La métrica **$R^2$** varía en 0 y 1 y cuanto más alto sea el número mejor se ajusta el modelo a los datos. Un inconveniente de esta métrica es que siempre aumenta cuando aumentan el número de predictores, aunque estos no sean relevantes para el modelo, lo que puede producir una falsa sensación de seguridad.\n",
        "\n",
        "Por ello es más conveniente utilizar el **$R^2$ ajustado** o **score** que se calcula de la siguiente manera:\n",
        "$R^2_{\\text{adj}} = 1 - \\frac{(1 - R^2) \\cdot (n - 1)}{n - p - 1}$. En este caso n es el número de predictores y p el número de variables. Como se puede ver esta métrica utiliza el R^2 teniendo en cuenta el número de variables predictoras  y así evitar el sobreajuste\n",
        "\n",
        "La otra métrica que se va a comentar es el **Error Relativo Absoluto (RAE)** cuya función es evaluar la precisión de un modelo en comparación con los valores reales. Mide la diferencia promedio entre las predicciones del modelo y los valores reales, en relación con la variabilidad de los valores reales. Cuanto menor sea el RAE mejor será la capacidad predictiva del modelo.\n",
        "La fórmula es la siguiente:\n",
        "$RAE = \\frac{\\sum_{i=1}^{n} |y_i - \\hat{y}_i|}{\\sum_{i=1}^{n} |y_i - \\bar{y}|}$\n",
        "\n",
        "Donde:\n",
        "- $y_i$ son los valores reales.\n",
        "- $\\hat{y}_i$ son los valores predichos por el modelo.\n",
        "- $\\bar{y}$ es la media de los valores reales.\n",
        "- $n$ es el número total de observaciones."
      ],
      "metadata": {
        "id": "RgH2f8l0qGdR"
      }
    },
    {
      "cell_type": "markdown",
      "source": [
        "### ¿Cuál es el mejor método de imputación y de escalado?\n",
        "\n",
        "En este apartado se compararán varios métodos de imputación y de escalado para determinar cual es la mejor opción.\n",
        "\n",
        "En primer lugar, se realizará la división de los datos en dos muestras, una muestra de entrenamiento y una muestra de prueba o test, es interesante destacar que en esta oportunidad se hace uso del parámetro \"***shuffle***\" igual a False ya que nos interesa conservar la dependencia temporal que se comentó en la interpretación del gráfico de la variable , en este caso, la radiación solar durante todo el día."
      ],
      "metadata": {
        "id": "QtN8hpsjvQYt"
      }
    },
    {
      "cell_type": "code",
      "source": [
        "# Dividimos los datos en entrenamiento y prueba sin mezclarlos\n",
        "\n",
        "x_train, x_test, y_train, y_test = train_test_split(X,y, test_size=0.25, shuffle=False) #Dividimos en 9 y 3\n"
      ],
      "metadata": {
        "id": "4CaAhJN2DFkb"
      },
      "execution_count": null,
      "outputs": []
    },
    {
      "cell_type": "markdown",
      "source": [
        "Al tratarse de una base de datos que cuenta con una elevada cantidad de variables, el primer paso a seguir es la generación de una lista en donde se permitirá diferenciar de manera más sencilla las variables de tipo numéricas de las variables no numéricas, en este caso, categóricas.\n",
        "\n",
        "En este caso, se define una función en donde se extraen las columnas de las variables que son del tipo especificado \"tipos\". Por otra parte, se define una segunda función \"no_tipos\" por la cual se extraen las variables que son del tipo NO especificado."
      ],
      "metadata": {
        "id": "jKn1GoDouIbF"
      }
    },
    {
      "cell_type": "code",
      "source": [
        "# Obtenemos la lista de predictores numéricos y no numéricos\n",
        "\n",
        "def tipos(X, tipo):\n",
        "  columns = [col for col in X.columns if X[col].dtype == tipo]\n",
        "  return columns\n",
        "\n",
        "def no_tipos(X, tipo):\n",
        "  columns = [col for col in X.columns if X[col].dtype != tipo]\n",
        "  return columns\n",
        "\n",
        "nm = tipos(df, 'float64')\n",
        "nm.remove('salida')\n",
        "print(len(nm))\n",
        "print(nm)\n",
        "\n",
        "cc = no_tipos(df, 'float64')\n",
        "print(len(cc))\n",
        "print(cc)"
      ],
      "metadata": {
        "colab": {
          "base_uri": "https://localhost:8080/"
        },
        "id": "IwDI60mbzqWz",
        "outputId": "106be2f6-8cc2-4a78-f65c-30dec6d63b1d"
      },
      "execution_count": null,
      "outputs": [
        {
          "output_type": "stream",
          "name": "stdout",
          "text": [
            "45\n",
            "['apcp_sf2_1', 'apcp_sf3_1', 'apcp_sf4_1', 'apcp_sf5_1', 'dlwrf_s3_1', 'dswrf_s1_1', 'dswrf_s2_1', 'dswrf_s3_1', 'pres_ms1_1', 'pres_ms2_1', 'pres_ms3_1', 'pres_ms4_1', 'pwat_ea2_1', 'pwat_ea3_1', 'pwat_ea4_1', 'spfh_2m1_1', 'spfh_2m2_1', 'spfh_2m3_1', 'spfh_2m4_1', 'spfh_2m5_1', 'tcdc_ea1_1', 'tcdc_ea2_1', 'tcolc_e1_1', 'tcolc_e3_1', 'tcolc_e5_1', 'tmax_2m5_1', 'tmin_2m2_1', 'tmin_2m3_1', 'tmin_2m4_1', 'tmin_2m5_1', 'tmp_2m_2_1', 'tmp_2m_3_1', 'tmp_2m_5_1', 'tmp_sfc1_1', 'tmp_sfc3_1', 'tmp_sfc5_1', 'ulwrf_s2_1', 'ulwrf_s4_1', 'ulwrf_s5_1', 'ulwrf_t1_1', 'ulwrf_t5_1', 'uswrf_s1_1', 'uswrf_s3_1', 'uswrf_s4_1', 'uswrf_s5_1']\n",
            "30\n",
            "['apcp_sf1_1', 'dlwrf_s1_1', 'dlwrf_s2_1', 'dlwrf_s4_1', 'dlwrf_s5_1', 'dswrf_s4_1', 'dswrf_s5_1', 'pres_ms5_1', 'pwat_ea1_1', 'pwat_ea5_1', 'tcdc_ea3_1', 'tcdc_ea4_1', 'tcdc_ea5_1', 'tcolc_e2_1', 'tcolc_e4_1', 'tmax_2m1_1', 'tmax_2m2_1', 'tmax_2m3_1', 'tmax_2m4_1', 'tmin_2m1_1', 'tmp_2m_1_1', 'tmp_2m_4_1', 'tmp_sfc2_1', 'tmp_sfc4_1', 'ulwrf_s1_1', 'ulwrf_s3_1', 'ulwrf_t2_1', 'ulwrf_t3_1', 'ulwrf_t4_1', 'uswrf_s2_1']\n"
          ]
        }
      ]
    },
    {
      "cell_type": "markdown",
      "source": [
        "Luego de aplicar las funciones creadas especificando \"*float64*\" como tipo de variable en ambas, se obtienen dos listas de variables:\n",
        "\n",
        "* **nm**: Lista que contiene las variables numéricas, en este caso, un total de 45 variables.\n",
        "\n",
        "* **cc**: Lista que contiene las variables no numéricas, en este caso, un total de 30 variables.\n",
        "\n",
        "Es decir, las 75 variables predictoras que se utilizarán en el estudio se encuentran en sus respectivas listas según su tipo, lo que optimiza en gran cantidad el tiempo de trabajo y la organización del mismo, especialmente durante el preprocesamiento de los datos.\n",
        "\n"
      ],
      "metadata": {
        "id": "A39NCVkWvUQ1"
      }
    },
    {
      "cell_type": "markdown",
      "source": [
        "Es interesante destacar antes de iniciar con el preprocesamiento de los datos que este se realizará mediante una pipeline ya que uno de los principales objetivos de la práctica es automatizar y simplificar el proceso de aprendizaje automático.\n",
        "\n",
        "Las pipelines permiten, evitar errores, data leakage o pérdida de información y ahorrar tiempo.\n",
        "\n",
        "El primer paso para la creación de la pipeline anteriormente mencionada es crear una función que permita eliminar las columnas o variables que posean un elevado porcentaje de valores faltantes, en este caso, 80% o más de valores faltantes."
      ],
      "metadata": {
        "id": "A-RTTjnfx_Kn"
      }
    },
    {
      "cell_type": "code",
      "source": [
        "# Creamos una función para borrar las columnas que tengan más del 80% de datos faltantes.\n",
        "\n",
        "def borrar_col_na (numeros, threshold=0.8):\n",
        "\n",
        "  #Contamos los valores nulos por columnas\n",
        "  suma_nulos = np.sum (np.isnan(numeros), axis=0)\n",
        "\n",
        "  # Calculamos el porcentaje de missing values por columna\n",
        "  porcentaje_nulos = np.divide(suma_nulos, numeros.shape [0])\n",
        "\n",
        "  # Obtenemos las columnas que superan el umbral\n",
        "  drop_columns = np.where (porcentaje_nulos > threshold) [0]\n",
        "\n",
        "  # Eliminamos las columnas del array\n",
        "  numeros = np.delete (numeros, drop_columns, axis=1)\n",
        "\n",
        "  # Devolvemos el array modificado\n",
        "  return numeros\n",
        "\n",
        "# Creamos un objeto FunctionTransformer con la función definida\n",
        "Borrar_NAs = FunctionTransformer(borrar_col_na)"
      ],
      "metadata": {
        "id": "A0OZG1PttKyM"
      },
      "execution_count": null,
      "outputs": []
    },
    {
      "cell_type": "markdown",
      "source": [
        "Una vez creada la función que permitirá eliminar las variables identificadas mediante el EDA que poseen un gran porcentaje de missing values, se procede a iniciar con la construcción de la pipeline, se destaca que la función creada anteriormente se introducirá en el pipeline para posteriormente aplicarlo sobre las variables de tipo numéricas.\n",
        "\n",
        "Esto se realizará de esta manera ya que preprocesos de datos como por ejemplo, eliminación de atributos constantes o eliminación de columnas con un alto porcentaje de missing values no implican **information leakage** o pérdida de información.\n",
        "\n",
        "Por lo tanto, este tipo de pasos pueden realizarse tanto dentro como fuera de la pipeline, en este caso, ambos pasos del preprocesamiento se realizarán dentro de la pipeline por motivos de sencillez y reproducibilidad del código, es decir, una vez creada la pipeline se puede aplicar a cualquier conjunto de datos durante la realización del estudio, además, de esta forma se genera un código más compacto y sencillo de analizar."
      ],
      "metadata": {
        "id": "pbUIGog-zxlk"
      }
    },
    {
      "cell_type": "markdown",
      "source": [
        "Ahora se procede a construir una pipeline para determinar cuál es el mejor método de imputación y escalado, entrenando y evaluando un modelo con KNN.\n",
        "\n",
        "En primer lugar, se pretende estudiar cuál es el mejor método de preprocesamiento para las variables numéricas. En cuanto a la imputación se comprobará si es mejor imputar con la mediana utilizando la función **SimpleImputer** o mediante un KNN de regresión utilizando la función **IterativeImputer**. Además, para las variables numéricas se utilizará la función creada previamente para borrar las columnas con un porcentaje igual o mayor al 80% de missing values. En la misma línea, en la pipeline para las variables numéricas se incluye la función **StandardScaler** para realizar la estandarización de las mismas.\n",
        "\n",
        "Por otra parte, para las variables categóricas se realiza el mismo procedimiento para la imputación, es decir, se utiliza **SimpleImputer** pero imputando con la moda y se utiliza la función **IterativeImputer** para imputar mediante un KNN de clasificación. También se introduce la función **OneHotEncoder** con la finalidad de codificar las variables categóricas.\n",
        "\n",
        "Además, para ambos tipos de variables se ha introducido en sus respectivas pipelines la función **VarianceThreshold** para eliminar las columnas constantes ya que la varianza de una constante es igual a 0, criterio que sigue dicha función.\n",
        "\n",
        "Finalmente, se concatenan las dos pipelines creadas con anterioridad dentro del **preprocessor** y además se le asigna el tipo de variable que debe transformar cada una de las pipelines que conforman dicho preprocessor.\n",
        "\n"
      ],
      "metadata": {
        "id": "QhTlExVw8CSY"
      }
    },
    {
      "cell_type": "code",
      "source": [
        "imputer_learner_reg = KNeighborsRegressor()\n",
        "num_transformers = {\n",
        "    (\"imputer_col\", SimpleImputer(strategy=\"median\")),\n",
        "    (\"imputer_row\", IterativeImputer(estimator=imputer_learner_reg))\n",
        "}\n",
        "\n",
        "num_imputer = FeatureUnion(transformer_list=num_transformers)\n",
        "\n",
        "# Creamos el pipeline de preproceso numérico\n",
        "num_pipeline = Pipeline([\n",
        "    (\"borrar_constantes\", VarianceThreshold(0)),\n",
        "    ('borrar_NAs', Borrar_NAs),\n",
        "    ('imputer', IterativeImputer(estimator=imputer_learner_reg)),\n",
        "    ('scaler', StandardScaler())\n",
        "])\n",
        "\n",
        "imputer_learner_class = KNeighborsClassifier()\n",
        "cat_transformers = {\n",
        "    (\"imputer_col\", SimpleImputer(strategy=\"mode\")),\n",
        "    (\"imputer_row\", IterativeImputer(estimator=imputer_learner_class))\n",
        "}\n",
        "\n",
        "cat_imputer = FeatureUnion(transformer_list = imputer_learner_class )\n",
        "\n",
        "cat_pipeline = Pipeline([\n",
        "    ('encoder', OneHotEncoder(sparse_output = False, handle_unknown=\"ignore\")),\n",
        "    ('borrar_constantes', VarianceThreshold(0)),\n",
        "    ('imputer', IterativeImputer(estimator=imputer_learner_class))\n",
        "\n",
        "])\n",
        "\n",
        "# Creamos pipeline numérico y categórico\n",
        "preprocessor = ColumnTransformer([\n",
        "    (\"num\", num_pipeline, nm),\n",
        "    (\"cat\", cat_pipeline, cc)\n",
        "])\n",
        "\n",
        "preprocessor.fit(x_train)\n"
      ],
      "metadata": {
        "colab": {
          "base_uri": "https://localhost:8080/",
          "height": 288
        },
        "id": "fFpNxOd860uX",
        "outputId": "918da7eb-7ad3-4313-a41f-eb13b006063e"
      },
      "execution_count": null,
      "outputs": [
        {
          "output_type": "execute_result",
          "data": {
            "text/plain": [
              "ColumnTransformer(transformers=[('num',\n",
              "                                 Pipeline(steps=[('borrar_constantes',\n",
              "                                                  VarianceThreshold(threshold=0)),\n",
              "                                                 ('borrar_NAs',\n",
              "                                                  FunctionTransformer(func=<function borrar_col_na at 0x7ce250bc5cf0>)),\n",
              "                                                 ('imputer',\n",
              "                                                  IterativeImputer(estimator=KNeighborsRegressor())),\n",
              "                                                 ('scaler', StandardScaler())]),\n",
              "                                 ['apcp_sf2_1', 'apcp_sf3_1', 'apcp_sf4_1',\n",
              "                                  'apcp_sf5_1', 'dlwrf_s3_1', 'ds...\n",
              "                                  'dlwrf_s4_1', 'dlwrf_s5_1', 'dswrf_s4_1',\n",
              "                                  'dswrf_s5_1', 'pres_ms5_1', 'pwat_ea1_1',\n",
              "                                  'pwat_ea5_1', 'tcdc_ea3_1', 'tcdc_ea4_1',\n",
              "                                  'tcdc_ea5_1', 'tcolc_e2_1', 'tcolc_e4_1',\n",
              "                                  'tmax_2m1_1', 'tmax_2m2_1', 'tmax_2m3_1',\n",
              "                                  'tmax_2m4_1', 'tmin_2m1_1', 'tmp_2m_1_1',\n",
              "                                  'tmp_2m_4_1', 'tmp_sfc2_1', 'tmp_sfc4_1',\n",
              "                                  'ulwrf_s1_1', 'ulwrf_s3_1', 'ulwrf_t2_1',\n",
              "                                  'ulwrf_t3_1', 'ulwrf_t4_1', 'uswrf_s2_1'])])"
            ],
            "text/html": [
              "<style>#sk-container-id-1 {color: black;background-color: white;}#sk-container-id-1 pre{padding: 0;}#sk-container-id-1 div.sk-toggleable {background-color: white;}#sk-container-id-1 label.sk-toggleable__label {cursor: pointer;display: block;width: 100%;margin-bottom: 0;padding: 0.3em;box-sizing: border-box;text-align: center;}#sk-container-id-1 label.sk-toggleable__label-arrow:before {content: \"▸\";float: left;margin-right: 0.25em;color: #696969;}#sk-container-id-1 label.sk-toggleable__label-arrow:hover:before {color: black;}#sk-container-id-1 div.sk-estimator:hover label.sk-toggleable__label-arrow:before {color: black;}#sk-container-id-1 div.sk-toggleable__content {max-height: 0;max-width: 0;overflow: hidden;text-align: left;background-color: #f0f8ff;}#sk-container-id-1 div.sk-toggleable__content pre {margin: 0.2em;color: black;border-radius: 0.25em;background-color: #f0f8ff;}#sk-container-id-1 input.sk-toggleable__control:checked~div.sk-toggleable__content {max-height: 200px;max-width: 100%;overflow: auto;}#sk-container-id-1 input.sk-toggleable__control:checked~label.sk-toggleable__label-arrow:before {content: \"▾\";}#sk-container-id-1 div.sk-estimator input.sk-toggleable__control:checked~label.sk-toggleable__label {background-color: #d4ebff;}#sk-container-id-1 div.sk-label input.sk-toggleable__control:checked~label.sk-toggleable__label {background-color: #d4ebff;}#sk-container-id-1 input.sk-hidden--visually {border: 0;clip: rect(1px 1px 1px 1px);clip: rect(1px, 1px, 1px, 1px);height: 1px;margin: -1px;overflow: hidden;padding: 0;position: absolute;width: 1px;}#sk-container-id-1 div.sk-estimator {font-family: monospace;background-color: #f0f8ff;border: 1px dotted black;border-radius: 0.25em;box-sizing: border-box;margin-bottom: 0.5em;}#sk-container-id-1 div.sk-estimator:hover {background-color: #d4ebff;}#sk-container-id-1 div.sk-parallel-item::after {content: \"\";width: 100%;border-bottom: 1px solid gray;flex-grow: 1;}#sk-container-id-1 div.sk-label:hover label.sk-toggleable__label {background-color: #d4ebff;}#sk-container-id-1 div.sk-serial::before {content: \"\";position: absolute;border-left: 1px solid gray;box-sizing: border-box;top: 0;bottom: 0;left: 50%;z-index: 0;}#sk-container-id-1 div.sk-serial {display: flex;flex-direction: column;align-items: center;background-color: white;padding-right: 0.2em;padding-left: 0.2em;position: relative;}#sk-container-id-1 div.sk-item {position: relative;z-index: 1;}#sk-container-id-1 div.sk-parallel {display: flex;align-items: stretch;justify-content: center;background-color: white;position: relative;}#sk-container-id-1 div.sk-item::before, #sk-container-id-1 div.sk-parallel-item::before {content: \"\";position: absolute;border-left: 1px solid gray;box-sizing: border-box;top: 0;bottom: 0;left: 50%;z-index: -1;}#sk-container-id-1 div.sk-parallel-item {display: flex;flex-direction: column;z-index: 1;position: relative;background-color: white;}#sk-container-id-1 div.sk-parallel-item:first-child::after {align-self: flex-end;width: 50%;}#sk-container-id-1 div.sk-parallel-item:last-child::after {align-self: flex-start;width: 50%;}#sk-container-id-1 div.sk-parallel-item:only-child::after {width: 0;}#sk-container-id-1 div.sk-dashed-wrapped {border: 1px dashed gray;margin: 0 0.4em 0.5em 0.4em;box-sizing: border-box;padding-bottom: 0.4em;background-color: white;}#sk-container-id-1 div.sk-label label {font-family: monospace;font-weight: bold;display: inline-block;line-height: 1.2em;}#sk-container-id-1 div.sk-label-container {text-align: center;}#sk-container-id-1 div.sk-container {/* jupyter's `normalize.less` sets `[hidden] { display: none; }` but bootstrap.min.css set `[hidden] { display: none !important; }` so we also need the `!important` here to be able to override the default hidden behavior on the sphinx rendered scikit-learn.org. See: https://github.com/scikit-learn/scikit-learn/issues/21755 */display: inline-block !important;position: relative;}#sk-container-id-1 div.sk-text-repr-fallback {display: none;}</style><div id=\"sk-container-id-1\" class=\"sk-top-container\"><div class=\"sk-text-repr-fallback\"><pre>ColumnTransformer(transformers=[(&#x27;num&#x27;,\n",
              "                                 Pipeline(steps=[(&#x27;borrar_constantes&#x27;,\n",
              "                                                  VarianceThreshold(threshold=0)),\n",
              "                                                 (&#x27;borrar_NAs&#x27;,\n",
              "                                                  FunctionTransformer(func=&lt;function borrar_col_na at 0x7ce250bc5cf0&gt;)),\n",
              "                                                 (&#x27;imputer&#x27;,\n",
              "                                                  IterativeImputer(estimator=KNeighborsRegressor())),\n",
              "                                                 (&#x27;scaler&#x27;, StandardScaler())]),\n",
              "                                 [&#x27;apcp_sf2_1&#x27;, &#x27;apcp_sf3_1&#x27;, &#x27;apcp_sf4_1&#x27;,\n",
              "                                  &#x27;apcp_sf5_1&#x27;, &#x27;dlwrf_s3_1&#x27;, &#x27;ds...\n",
              "                                  &#x27;dlwrf_s4_1&#x27;, &#x27;dlwrf_s5_1&#x27;, &#x27;dswrf_s4_1&#x27;,\n",
              "                                  &#x27;dswrf_s5_1&#x27;, &#x27;pres_ms5_1&#x27;, &#x27;pwat_ea1_1&#x27;,\n",
              "                                  &#x27;pwat_ea5_1&#x27;, &#x27;tcdc_ea3_1&#x27;, &#x27;tcdc_ea4_1&#x27;,\n",
              "                                  &#x27;tcdc_ea5_1&#x27;, &#x27;tcolc_e2_1&#x27;, &#x27;tcolc_e4_1&#x27;,\n",
              "                                  &#x27;tmax_2m1_1&#x27;, &#x27;tmax_2m2_1&#x27;, &#x27;tmax_2m3_1&#x27;,\n",
              "                                  &#x27;tmax_2m4_1&#x27;, &#x27;tmin_2m1_1&#x27;, &#x27;tmp_2m_1_1&#x27;,\n",
              "                                  &#x27;tmp_2m_4_1&#x27;, &#x27;tmp_sfc2_1&#x27;, &#x27;tmp_sfc4_1&#x27;,\n",
              "                                  &#x27;ulwrf_s1_1&#x27;, &#x27;ulwrf_s3_1&#x27;, &#x27;ulwrf_t2_1&#x27;,\n",
              "                                  &#x27;ulwrf_t3_1&#x27;, &#x27;ulwrf_t4_1&#x27;, &#x27;uswrf_s2_1&#x27;])])</pre><b>In a Jupyter environment, please rerun this cell to show the HTML representation or trust the notebook. <br />On GitHub, the HTML representation is unable to render, please try loading this page with nbviewer.org.</b></div><div class=\"sk-container\" hidden><div class=\"sk-item sk-dashed-wrapped\"><div class=\"sk-label-container\"><div class=\"sk-label sk-toggleable\"><input class=\"sk-toggleable__control sk-hidden--visually\" id=\"sk-estimator-id-1\" type=\"checkbox\" ><label for=\"sk-estimator-id-1\" class=\"sk-toggleable__label sk-toggleable__label-arrow\">ColumnTransformer</label><div class=\"sk-toggleable__content\"><pre>ColumnTransformer(transformers=[(&#x27;num&#x27;,\n",
              "                                 Pipeline(steps=[(&#x27;borrar_constantes&#x27;,\n",
              "                                                  VarianceThreshold(threshold=0)),\n",
              "                                                 (&#x27;borrar_NAs&#x27;,\n",
              "                                                  FunctionTransformer(func=&lt;function borrar_col_na at 0x7ce250bc5cf0&gt;)),\n",
              "                                                 (&#x27;imputer&#x27;,\n",
              "                                                  IterativeImputer(estimator=KNeighborsRegressor())),\n",
              "                                                 (&#x27;scaler&#x27;, StandardScaler())]),\n",
              "                                 [&#x27;apcp_sf2_1&#x27;, &#x27;apcp_sf3_1&#x27;, &#x27;apcp_sf4_1&#x27;,\n",
              "                                  &#x27;apcp_sf5_1&#x27;, &#x27;dlwrf_s3_1&#x27;, &#x27;ds...\n",
              "                                  &#x27;dlwrf_s4_1&#x27;, &#x27;dlwrf_s5_1&#x27;, &#x27;dswrf_s4_1&#x27;,\n",
              "                                  &#x27;dswrf_s5_1&#x27;, &#x27;pres_ms5_1&#x27;, &#x27;pwat_ea1_1&#x27;,\n",
              "                                  &#x27;pwat_ea5_1&#x27;, &#x27;tcdc_ea3_1&#x27;, &#x27;tcdc_ea4_1&#x27;,\n",
              "                                  &#x27;tcdc_ea5_1&#x27;, &#x27;tcolc_e2_1&#x27;, &#x27;tcolc_e4_1&#x27;,\n",
              "                                  &#x27;tmax_2m1_1&#x27;, &#x27;tmax_2m2_1&#x27;, &#x27;tmax_2m3_1&#x27;,\n",
              "                                  &#x27;tmax_2m4_1&#x27;, &#x27;tmin_2m1_1&#x27;, &#x27;tmp_2m_1_1&#x27;,\n",
              "                                  &#x27;tmp_2m_4_1&#x27;, &#x27;tmp_sfc2_1&#x27;, &#x27;tmp_sfc4_1&#x27;,\n",
              "                                  &#x27;ulwrf_s1_1&#x27;, &#x27;ulwrf_s3_1&#x27;, &#x27;ulwrf_t2_1&#x27;,\n",
              "                                  &#x27;ulwrf_t3_1&#x27;, &#x27;ulwrf_t4_1&#x27;, &#x27;uswrf_s2_1&#x27;])])</pre></div></div></div><div class=\"sk-parallel\"><div class=\"sk-parallel-item\"><div class=\"sk-item\"><div class=\"sk-label-container\"><div class=\"sk-label sk-toggleable\"><input class=\"sk-toggleable__control sk-hidden--visually\" id=\"sk-estimator-id-2\" type=\"checkbox\" ><label for=\"sk-estimator-id-2\" class=\"sk-toggleable__label sk-toggleable__label-arrow\">num</label><div class=\"sk-toggleable__content\"><pre>[&#x27;apcp_sf2_1&#x27;, &#x27;apcp_sf3_1&#x27;, &#x27;apcp_sf4_1&#x27;, &#x27;apcp_sf5_1&#x27;, &#x27;dlwrf_s3_1&#x27;, &#x27;dswrf_s1_1&#x27;, &#x27;dswrf_s2_1&#x27;, &#x27;dswrf_s3_1&#x27;, &#x27;pres_ms1_1&#x27;, &#x27;pres_ms2_1&#x27;, &#x27;pres_ms3_1&#x27;, &#x27;pres_ms4_1&#x27;, &#x27;pwat_ea2_1&#x27;, &#x27;pwat_ea3_1&#x27;, &#x27;pwat_ea4_1&#x27;, &#x27;spfh_2m1_1&#x27;, &#x27;spfh_2m2_1&#x27;, &#x27;spfh_2m3_1&#x27;, &#x27;spfh_2m4_1&#x27;, &#x27;spfh_2m5_1&#x27;, &#x27;tcdc_ea1_1&#x27;, &#x27;tcdc_ea2_1&#x27;, &#x27;tcolc_e1_1&#x27;, &#x27;tcolc_e3_1&#x27;, &#x27;tcolc_e5_1&#x27;, &#x27;tmax_2m5_1&#x27;, &#x27;tmin_2m2_1&#x27;, &#x27;tmin_2m3_1&#x27;, &#x27;tmin_2m4_1&#x27;, &#x27;tmin_2m5_1&#x27;, &#x27;tmp_2m_2_1&#x27;, &#x27;tmp_2m_3_1&#x27;, &#x27;tmp_2m_5_1&#x27;, &#x27;tmp_sfc1_1&#x27;, &#x27;tmp_sfc3_1&#x27;, &#x27;tmp_sfc5_1&#x27;, &#x27;ulwrf_s2_1&#x27;, &#x27;ulwrf_s4_1&#x27;, &#x27;ulwrf_s5_1&#x27;, &#x27;ulwrf_t1_1&#x27;, &#x27;ulwrf_t5_1&#x27;, &#x27;uswrf_s1_1&#x27;, &#x27;uswrf_s3_1&#x27;, &#x27;uswrf_s4_1&#x27;, &#x27;uswrf_s5_1&#x27;]</pre></div></div></div><div class=\"sk-serial\"><div class=\"sk-item\"><div class=\"sk-serial\"><div class=\"sk-item\"><div class=\"sk-estimator sk-toggleable\"><input class=\"sk-toggleable__control sk-hidden--visually\" id=\"sk-estimator-id-3\" type=\"checkbox\" ><label for=\"sk-estimator-id-3\" class=\"sk-toggleable__label sk-toggleable__label-arrow\">VarianceThreshold</label><div class=\"sk-toggleable__content\"><pre>VarianceThreshold(threshold=0)</pre></div></div></div><div class=\"sk-item\"><div class=\"sk-estimator sk-toggleable\"><input class=\"sk-toggleable__control sk-hidden--visually\" id=\"sk-estimator-id-4\" type=\"checkbox\" ><label for=\"sk-estimator-id-4\" class=\"sk-toggleable__label sk-toggleable__label-arrow\">FunctionTransformer</label><div class=\"sk-toggleable__content\"><pre>FunctionTransformer(func=&lt;function borrar_col_na at 0x7ce250bc5cf0&gt;)</pre></div></div></div><div class=\"sk-item sk-dashed-wrapped\"><div class=\"sk-label-container\"><div class=\"sk-label sk-toggleable\"><input class=\"sk-toggleable__control sk-hidden--visually\" id=\"sk-estimator-id-5\" type=\"checkbox\" ><label for=\"sk-estimator-id-5\" class=\"sk-toggleable__label sk-toggleable__label-arrow\">imputer: IterativeImputer</label><div class=\"sk-toggleable__content\"><pre>IterativeImputer(estimator=KNeighborsRegressor())</pre></div></div></div><div class=\"sk-parallel\"><div class=\"sk-parallel-item\"><div class=\"sk-item\"><div class=\"sk-label-container\"><div class=\"sk-label sk-toggleable\"><input class=\"sk-toggleable__control sk-hidden--visually\" id=\"sk-estimator-id-6\" type=\"checkbox\" ><label for=\"sk-estimator-id-6\" class=\"sk-toggleable__label sk-toggleable__label-arrow\">estimator: KNeighborsRegressor</label><div class=\"sk-toggleable__content\"><pre>KNeighborsRegressor()</pre></div></div></div><div class=\"sk-serial\"><div class=\"sk-item\"><div class=\"sk-estimator sk-toggleable\"><input class=\"sk-toggleable__control sk-hidden--visually\" id=\"sk-estimator-id-7\" type=\"checkbox\" ><label for=\"sk-estimator-id-7\" class=\"sk-toggleable__label sk-toggleable__label-arrow\">KNeighborsRegressor</label><div class=\"sk-toggleable__content\"><pre>KNeighborsRegressor()</pre></div></div></div></div></div></div></div></div><div class=\"sk-item\"><div class=\"sk-estimator sk-toggleable\"><input class=\"sk-toggleable__control sk-hidden--visually\" id=\"sk-estimator-id-8\" type=\"checkbox\" ><label for=\"sk-estimator-id-8\" class=\"sk-toggleable__label sk-toggleable__label-arrow\">StandardScaler</label><div class=\"sk-toggleable__content\"><pre>StandardScaler()</pre></div></div></div></div></div></div></div></div><div class=\"sk-parallel-item\"><div class=\"sk-item\"><div class=\"sk-label-container\"><div class=\"sk-label sk-toggleable\"><input class=\"sk-toggleable__control sk-hidden--visually\" id=\"sk-estimator-id-9\" type=\"checkbox\" ><label for=\"sk-estimator-id-9\" class=\"sk-toggleable__label sk-toggleable__label-arrow\">cat</label><div class=\"sk-toggleable__content\"><pre>[&#x27;apcp_sf1_1&#x27;, &#x27;dlwrf_s1_1&#x27;, &#x27;dlwrf_s2_1&#x27;, &#x27;dlwrf_s4_1&#x27;, &#x27;dlwrf_s5_1&#x27;, &#x27;dswrf_s4_1&#x27;, &#x27;dswrf_s5_1&#x27;, &#x27;pres_ms5_1&#x27;, &#x27;pwat_ea1_1&#x27;, &#x27;pwat_ea5_1&#x27;, &#x27;tcdc_ea3_1&#x27;, &#x27;tcdc_ea4_1&#x27;, &#x27;tcdc_ea5_1&#x27;, &#x27;tcolc_e2_1&#x27;, &#x27;tcolc_e4_1&#x27;, &#x27;tmax_2m1_1&#x27;, &#x27;tmax_2m2_1&#x27;, &#x27;tmax_2m3_1&#x27;, &#x27;tmax_2m4_1&#x27;, &#x27;tmin_2m1_1&#x27;, &#x27;tmp_2m_1_1&#x27;, &#x27;tmp_2m_4_1&#x27;, &#x27;tmp_sfc2_1&#x27;, &#x27;tmp_sfc4_1&#x27;, &#x27;ulwrf_s1_1&#x27;, &#x27;ulwrf_s3_1&#x27;, &#x27;ulwrf_t2_1&#x27;, &#x27;ulwrf_t3_1&#x27;, &#x27;ulwrf_t4_1&#x27;, &#x27;uswrf_s2_1&#x27;]</pre></div></div></div><div class=\"sk-serial\"><div class=\"sk-item\"><div class=\"sk-serial\"><div class=\"sk-item\"><div class=\"sk-estimator sk-toggleable\"><input class=\"sk-toggleable__control sk-hidden--visually\" id=\"sk-estimator-id-10\" type=\"checkbox\" ><label for=\"sk-estimator-id-10\" class=\"sk-toggleable__label sk-toggleable__label-arrow\">OneHotEncoder</label><div class=\"sk-toggleable__content\"><pre>OneHotEncoder(handle_unknown=&#x27;ignore&#x27;, sparse_output=False)</pre></div></div></div><div class=\"sk-item\"><div class=\"sk-estimator sk-toggleable\"><input class=\"sk-toggleable__control sk-hidden--visually\" id=\"sk-estimator-id-11\" type=\"checkbox\" ><label for=\"sk-estimator-id-11\" class=\"sk-toggleable__label sk-toggleable__label-arrow\">VarianceThreshold</label><div class=\"sk-toggleable__content\"><pre>VarianceThreshold(threshold=0)</pre></div></div></div><div class=\"sk-item sk-dashed-wrapped\"><div class=\"sk-label-container\"><div class=\"sk-label sk-toggleable\"><input class=\"sk-toggleable__control sk-hidden--visually\" id=\"sk-estimator-id-12\" type=\"checkbox\" ><label for=\"sk-estimator-id-12\" class=\"sk-toggleable__label sk-toggleable__label-arrow\">imputer: IterativeImputer</label><div class=\"sk-toggleable__content\"><pre>IterativeImputer(estimator=KNeighborsClassifier())</pre></div></div></div><div class=\"sk-parallel\"><div class=\"sk-parallel-item\"><div class=\"sk-item\"><div class=\"sk-label-container\"><div class=\"sk-label sk-toggleable\"><input class=\"sk-toggleable__control sk-hidden--visually\" id=\"sk-estimator-id-13\" type=\"checkbox\" ><label for=\"sk-estimator-id-13\" class=\"sk-toggleable__label sk-toggleable__label-arrow\">estimator: KNeighborsClassifier</label><div class=\"sk-toggleable__content\"><pre>KNeighborsClassifier()</pre></div></div></div><div class=\"sk-serial\"><div class=\"sk-item\"><div class=\"sk-estimator sk-toggleable\"><input class=\"sk-toggleable__control sk-hidden--visually\" id=\"sk-estimator-id-14\" type=\"checkbox\" ><label for=\"sk-estimator-id-14\" class=\"sk-toggleable__label sk-toggleable__label-arrow\">KNeighborsClassifier</label><div class=\"sk-toggleable__content\"><pre>KNeighborsClassifier()</pre></div></div></div></div></div></div></div></div></div></div></div></div></div></div></div></div></div>"
            ]
          },
          "metadata": {},
          "execution_count": 8
        }
      ]
    },
    {
      "cell_type": "markdown",
      "source": [
        "Finalmente se fusiona la pipeline creada en el apartado anterior con un modelo creado con un algoritmo KNN de regresión para obtener cual es la mejor combinación para realizar el preprocesamiento de los datos."
      ],
      "metadata": {
        "id": "v7hZpO-WA9WP"
      }
    },
    {
      "cell_type": "code",
      "source": [
        "regressor = KNeighborsRegressor()\n",
        "pipeline = Pipeline([\n",
        "    (\"preprocessor\", preprocessor),\n",
        "    (\"regressor\", regressor)\n",
        "])\n",
        "\n",
        "pipeline.fit(x_train, y_train) # Ajustamos la pipeline con los datos de entrenamiento"
      ],
      "metadata": {
        "id": "jsfcy5_VCUBk",
        "colab": {
          "base_uri": "https://localhost:8080/",
          "height": 362
        },
        "outputId": "6094b67e-f937-441b-c047-8c86d4d7053c"
      },
      "execution_count": null,
      "outputs": [
        {
          "output_type": "execute_result",
          "data": {
            "text/plain": [
              "Pipeline(steps=[('preprocessor',\n",
              "                 ColumnTransformer(transformers=[('num',\n",
              "                                                  Pipeline(steps=[('borrar_constantes',\n",
              "                                                                   VarianceThreshold(threshold=0)),\n",
              "                                                                  ('borrar_NAs',\n",
              "                                                                   FunctionTransformer(func=<function borrar_col_na at 0x7ce250bc5cf0>)),\n",
              "                                                                  ('imputer',\n",
              "                                                                   IterativeImputer(estimator=KNeighborsRegressor())),\n",
              "                                                                  ('scaler',\n",
              "                                                                   StandardScaler())]),\n",
              "                                                  ['apcp_sf2_1', 'apcp_sf3_1',\n",
              "                                                   'apcp_sf4_...\n",
              "                                                   'dswrf_s5_1', 'pres_ms5_1',\n",
              "                                                   'pwat_ea1_1', 'pwat_ea5_1',\n",
              "                                                   'tcdc_ea3_1', 'tcdc_ea4_1',\n",
              "                                                   'tcdc_ea5_1', 'tcolc_e2_1',\n",
              "                                                   'tcolc_e4_1', 'tmax_2m1_1',\n",
              "                                                   'tmax_2m2_1', 'tmax_2m3_1',\n",
              "                                                   'tmax_2m4_1', 'tmin_2m1_1',\n",
              "                                                   'tmp_2m_1_1', 'tmp_2m_4_1',\n",
              "                                                   'tmp_sfc2_1', 'tmp_sfc4_1',\n",
              "                                                   'ulwrf_s1_1', 'ulwrf_s3_1',\n",
              "                                                   'ulwrf_t2_1', 'ulwrf_t3_1',\n",
              "                                                   'ulwrf_t4_1',\n",
              "                                                   'uswrf_s2_1'])])),\n",
              "                ('regressor', KNeighborsRegressor())])"
            ],
            "text/html": [
              "<style>#sk-container-id-2 {color: black;background-color: white;}#sk-container-id-2 pre{padding: 0;}#sk-container-id-2 div.sk-toggleable {background-color: white;}#sk-container-id-2 label.sk-toggleable__label {cursor: pointer;display: block;width: 100%;margin-bottom: 0;padding: 0.3em;box-sizing: border-box;text-align: center;}#sk-container-id-2 label.sk-toggleable__label-arrow:before {content: \"▸\";float: left;margin-right: 0.25em;color: #696969;}#sk-container-id-2 label.sk-toggleable__label-arrow:hover:before {color: black;}#sk-container-id-2 div.sk-estimator:hover label.sk-toggleable__label-arrow:before {color: black;}#sk-container-id-2 div.sk-toggleable__content {max-height: 0;max-width: 0;overflow: hidden;text-align: left;background-color: #f0f8ff;}#sk-container-id-2 div.sk-toggleable__content pre {margin: 0.2em;color: black;border-radius: 0.25em;background-color: #f0f8ff;}#sk-container-id-2 input.sk-toggleable__control:checked~div.sk-toggleable__content {max-height: 200px;max-width: 100%;overflow: auto;}#sk-container-id-2 input.sk-toggleable__control:checked~label.sk-toggleable__label-arrow:before {content: \"▾\";}#sk-container-id-2 div.sk-estimator input.sk-toggleable__control:checked~label.sk-toggleable__label {background-color: #d4ebff;}#sk-container-id-2 div.sk-label input.sk-toggleable__control:checked~label.sk-toggleable__label {background-color: #d4ebff;}#sk-container-id-2 input.sk-hidden--visually {border: 0;clip: rect(1px 1px 1px 1px);clip: rect(1px, 1px, 1px, 1px);height: 1px;margin: -1px;overflow: hidden;padding: 0;position: absolute;width: 1px;}#sk-container-id-2 div.sk-estimator {font-family: monospace;background-color: #f0f8ff;border: 1px dotted black;border-radius: 0.25em;box-sizing: border-box;margin-bottom: 0.5em;}#sk-container-id-2 div.sk-estimator:hover {background-color: #d4ebff;}#sk-container-id-2 div.sk-parallel-item::after {content: \"\";width: 100%;border-bottom: 1px solid gray;flex-grow: 1;}#sk-container-id-2 div.sk-label:hover label.sk-toggleable__label {background-color: #d4ebff;}#sk-container-id-2 div.sk-serial::before {content: \"\";position: absolute;border-left: 1px solid gray;box-sizing: border-box;top: 0;bottom: 0;left: 50%;z-index: 0;}#sk-container-id-2 div.sk-serial {display: flex;flex-direction: column;align-items: center;background-color: white;padding-right: 0.2em;padding-left: 0.2em;position: relative;}#sk-container-id-2 div.sk-item {position: relative;z-index: 1;}#sk-container-id-2 div.sk-parallel {display: flex;align-items: stretch;justify-content: center;background-color: white;position: relative;}#sk-container-id-2 div.sk-item::before, #sk-container-id-2 div.sk-parallel-item::before {content: \"\";position: absolute;border-left: 1px solid gray;box-sizing: border-box;top: 0;bottom: 0;left: 50%;z-index: -1;}#sk-container-id-2 div.sk-parallel-item {display: flex;flex-direction: column;z-index: 1;position: relative;background-color: white;}#sk-container-id-2 div.sk-parallel-item:first-child::after {align-self: flex-end;width: 50%;}#sk-container-id-2 div.sk-parallel-item:last-child::after {align-self: flex-start;width: 50%;}#sk-container-id-2 div.sk-parallel-item:only-child::after {width: 0;}#sk-container-id-2 div.sk-dashed-wrapped {border: 1px dashed gray;margin: 0 0.4em 0.5em 0.4em;box-sizing: border-box;padding-bottom: 0.4em;background-color: white;}#sk-container-id-2 div.sk-label label {font-family: monospace;font-weight: bold;display: inline-block;line-height: 1.2em;}#sk-container-id-2 div.sk-label-container {text-align: center;}#sk-container-id-2 div.sk-container {/* jupyter's `normalize.less` sets `[hidden] { display: none; }` but bootstrap.min.css set `[hidden] { display: none !important; }` so we also need the `!important` here to be able to override the default hidden behavior on the sphinx rendered scikit-learn.org. See: https://github.com/scikit-learn/scikit-learn/issues/21755 */display: inline-block !important;position: relative;}#sk-container-id-2 div.sk-text-repr-fallback {display: none;}</style><div id=\"sk-container-id-2\" class=\"sk-top-container\"><div class=\"sk-text-repr-fallback\"><pre>Pipeline(steps=[(&#x27;preprocessor&#x27;,\n",
              "                 ColumnTransformer(transformers=[(&#x27;num&#x27;,\n",
              "                                                  Pipeline(steps=[(&#x27;borrar_constantes&#x27;,\n",
              "                                                                   VarianceThreshold(threshold=0)),\n",
              "                                                                  (&#x27;borrar_NAs&#x27;,\n",
              "                                                                   FunctionTransformer(func=&lt;function borrar_col_na at 0x7ce250bc5cf0&gt;)),\n",
              "                                                                  (&#x27;imputer&#x27;,\n",
              "                                                                   IterativeImputer(estimator=KNeighborsRegressor())),\n",
              "                                                                  (&#x27;scaler&#x27;,\n",
              "                                                                   StandardScaler())]),\n",
              "                                                  [&#x27;apcp_sf2_1&#x27;, &#x27;apcp_sf3_1&#x27;,\n",
              "                                                   &#x27;apcp_sf4_...\n",
              "                                                   &#x27;dswrf_s5_1&#x27;, &#x27;pres_ms5_1&#x27;,\n",
              "                                                   &#x27;pwat_ea1_1&#x27;, &#x27;pwat_ea5_1&#x27;,\n",
              "                                                   &#x27;tcdc_ea3_1&#x27;, &#x27;tcdc_ea4_1&#x27;,\n",
              "                                                   &#x27;tcdc_ea5_1&#x27;, &#x27;tcolc_e2_1&#x27;,\n",
              "                                                   &#x27;tcolc_e4_1&#x27;, &#x27;tmax_2m1_1&#x27;,\n",
              "                                                   &#x27;tmax_2m2_1&#x27;, &#x27;tmax_2m3_1&#x27;,\n",
              "                                                   &#x27;tmax_2m4_1&#x27;, &#x27;tmin_2m1_1&#x27;,\n",
              "                                                   &#x27;tmp_2m_1_1&#x27;, &#x27;tmp_2m_4_1&#x27;,\n",
              "                                                   &#x27;tmp_sfc2_1&#x27;, &#x27;tmp_sfc4_1&#x27;,\n",
              "                                                   &#x27;ulwrf_s1_1&#x27;, &#x27;ulwrf_s3_1&#x27;,\n",
              "                                                   &#x27;ulwrf_t2_1&#x27;, &#x27;ulwrf_t3_1&#x27;,\n",
              "                                                   &#x27;ulwrf_t4_1&#x27;,\n",
              "                                                   &#x27;uswrf_s2_1&#x27;])])),\n",
              "                (&#x27;regressor&#x27;, KNeighborsRegressor())])</pre><b>In a Jupyter environment, please rerun this cell to show the HTML representation or trust the notebook. <br />On GitHub, the HTML representation is unable to render, please try loading this page with nbviewer.org.</b></div><div class=\"sk-container\" hidden><div class=\"sk-item sk-dashed-wrapped\"><div class=\"sk-label-container\"><div class=\"sk-label sk-toggleable\"><input class=\"sk-toggleable__control sk-hidden--visually\" id=\"sk-estimator-id-15\" type=\"checkbox\" ><label for=\"sk-estimator-id-15\" class=\"sk-toggleable__label sk-toggleable__label-arrow\">Pipeline</label><div class=\"sk-toggleable__content\"><pre>Pipeline(steps=[(&#x27;preprocessor&#x27;,\n",
              "                 ColumnTransformer(transformers=[(&#x27;num&#x27;,\n",
              "                                                  Pipeline(steps=[(&#x27;borrar_constantes&#x27;,\n",
              "                                                                   VarianceThreshold(threshold=0)),\n",
              "                                                                  (&#x27;borrar_NAs&#x27;,\n",
              "                                                                   FunctionTransformer(func=&lt;function borrar_col_na at 0x7ce250bc5cf0&gt;)),\n",
              "                                                                  (&#x27;imputer&#x27;,\n",
              "                                                                   IterativeImputer(estimator=KNeighborsRegressor())),\n",
              "                                                                  (&#x27;scaler&#x27;,\n",
              "                                                                   StandardScaler())]),\n",
              "                                                  [&#x27;apcp_sf2_1&#x27;, &#x27;apcp_sf3_1&#x27;,\n",
              "                                                   &#x27;apcp_sf4_...\n",
              "                                                   &#x27;dswrf_s5_1&#x27;, &#x27;pres_ms5_1&#x27;,\n",
              "                                                   &#x27;pwat_ea1_1&#x27;, &#x27;pwat_ea5_1&#x27;,\n",
              "                                                   &#x27;tcdc_ea3_1&#x27;, &#x27;tcdc_ea4_1&#x27;,\n",
              "                                                   &#x27;tcdc_ea5_1&#x27;, &#x27;tcolc_e2_1&#x27;,\n",
              "                                                   &#x27;tcolc_e4_1&#x27;, &#x27;tmax_2m1_1&#x27;,\n",
              "                                                   &#x27;tmax_2m2_1&#x27;, &#x27;tmax_2m3_1&#x27;,\n",
              "                                                   &#x27;tmax_2m4_1&#x27;, &#x27;tmin_2m1_1&#x27;,\n",
              "                                                   &#x27;tmp_2m_1_1&#x27;, &#x27;tmp_2m_4_1&#x27;,\n",
              "                                                   &#x27;tmp_sfc2_1&#x27;, &#x27;tmp_sfc4_1&#x27;,\n",
              "                                                   &#x27;ulwrf_s1_1&#x27;, &#x27;ulwrf_s3_1&#x27;,\n",
              "                                                   &#x27;ulwrf_t2_1&#x27;, &#x27;ulwrf_t3_1&#x27;,\n",
              "                                                   &#x27;ulwrf_t4_1&#x27;,\n",
              "                                                   &#x27;uswrf_s2_1&#x27;])])),\n",
              "                (&#x27;regressor&#x27;, KNeighborsRegressor())])</pre></div></div></div><div class=\"sk-serial\"><div class=\"sk-item sk-dashed-wrapped\"><div class=\"sk-label-container\"><div class=\"sk-label sk-toggleable\"><input class=\"sk-toggleable__control sk-hidden--visually\" id=\"sk-estimator-id-16\" type=\"checkbox\" ><label for=\"sk-estimator-id-16\" class=\"sk-toggleable__label sk-toggleable__label-arrow\">preprocessor: ColumnTransformer</label><div class=\"sk-toggleable__content\"><pre>ColumnTransformer(transformers=[(&#x27;num&#x27;,\n",
              "                                 Pipeline(steps=[(&#x27;borrar_constantes&#x27;,\n",
              "                                                  VarianceThreshold(threshold=0)),\n",
              "                                                 (&#x27;borrar_NAs&#x27;,\n",
              "                                                  FunctionTransformer(func=&lt;function borrar_col_na at 0x7ce250bc5cf0&gt;)),\n",
              "                                                 (&#x27;imputer&#x27;,\n",
              "                                                  IterativeImputer(estimator=KNeighborsRegressor())),\n",
              "                                                 (&#x27;scaler&#x27;, StandardScaler())]),\n",
              "                                 [&#x27;apcp_sf2_1&#x27;, &#x27;apcp_sf3_1&#x27;, &#x27;apcp_sf4_1&#x27;,\n",
              "                                  &#x27;apcp_sf5_1&#x27;, &#x27;dlwrf_s3_1&#x27;, &#x27;ds...\n",
              "                                  &#x27;dlwrf_s4_1&#x27;, &#x27;dlwrf_s5_1&#x27;, &#x27;dswrf_s4_1&#x27;,\n",
              "                                  &#x27;dswrf_s5_1&#x27;, &#x27;pres_ms5_1&#x27;, &#x27;pwat_ea1_1&#x27;,\n",
              "                                  &#x27;pwat_ea5_1&#x27;, &#x27;tcdc_ea3_1&#x27;, &#x27;tcdc_ea4_1&#x27;,\n",
              "                                  &#x27;tcdc_ea5_1&#x27;, &#x27;tcolc_e2_1&#x27;, &#x27;tcolc_e4_1&#x27;,\n",
              "                                  &#x27;tmax_2m1_1&#x27;, &#x27;tmax_2m2_1&#x27;, &#x27;tmax_2m3_1&#x27;,\n",
              "                                  &#x27;tmax_2m4_1&#x27;, &#x27;tmin_2m1_1&#x27;, &#x27;tmp_2m_1_1&#x27;,\n",
              "                                  &#x27;tmp_2m_4_1&#x27;, &#x27;tmp_sfc2_1&#x27;, &#x27;tmp_sfc4_1&#x27;,\n",
              "                                  &#x27;ulwrf_s1_1&#x27;, &#x27;ulwrf_s3_1&#x27;, &#x27;ulwrf_t2_1&#x27;,\n",
              "                                  &#x27;ulwrf_t3_1&#x27;, &#x27;ulwrf_t4_1&#x27;, &#x27;uswrf_s2_1&#x27;])])</pre></div></div></div><div class=\"sk-parallel\"><div class=\"sk-parallel-item\"><div class=\"sk-item\"><div class=\"sk-label-container\"><div class=\"sk-label sk-toggleable\"><input class=\"sk-toggleable__control sk-hidden--visually\" id=\"sk-estimator-id-17\" type=\"checkbox\" ><label for=\"sk-estimator-id-17\" class=\"sk-toggleable__label sk-toggleable__label-arrow\">num</label><div class=\"sk-toggleable__content\"><pre>[&#x27;apcp_sf2_1&#x27;, &#x27;apcp_sf3_1&#x27;, &#x27;apcp_sf4_1&#x27;, &#x27;apcp_sf5_1&#x27;, &#x27;dlwrf_s3_1&#x27;, &#x27;dswrf_s1_1&#x27;, &#x27;dswrf_s2_1&#x27;, &#x27;dswrf_s3_1&#x27;, &#x27;pres_ms1_1&#x27;, &#x27;pres_ms2_1&#x27;, &#x27;pres_ms3_1&#x27;, &#x27;pres_ms4_1&#x27;, &#x27;pwat_ea2_1&#x27;, &#x27;pwat_ea3_1&#x27;, &#x27;pwat_ea4_1&#x27;, &#x27;spfh_2m1_1&#x27;, &#x27;spfh_2m2_1&#x27;, &#x27;spfh_2m3_1&#x27;, &#x27;spfh_2m4_1&#x27;, &#x27;spfh_2m5_1&#x27;, &#x27;tcdc_ea1_1&#x27;, &#x27;tcdc_ea2_1&#x27;, &#x27;tcolc_e1_1&#x27;, &#x27;tcolc_e3_1&#x27;, &#x27;tcolc_e5_1&#x27;, &#x27;tmax_2m5_1&#x27;, &#x27;tmin_2m2_1&#x27;, &#x27;tmin_2m3_1&#x27;, &#x27;tmin_2m4_1&#x27;, &#x27;tmin_2m5_1&#x27;, &#x27;tmp_2m_2_1&#x27;, &#x27;tmp_2m_3_1&#x27;, &#x27;tmp_2m_5_1&#x27;, &#x27;tmp_sfc1_1&#x27;, &#x27;tmp_sfc3_1&#x27;, &#x27;tmp_sfc5_1&#x27;, &#x27;ulwrf_s2_1&#x27;, &#x27;ulwrf_s4_1&#x27;, &#x27;ulwrf_s5_1&#x27;, &#x27;ulwrf_t1_1&#x27;, &#x27;ulwrf_t5_1&#x27;, &#x27;uswrf_s1_1&#x27;, &#x27;uswrf_s3_1&#x27;, &#x27;uswrf_s4_1&#x27;, &#x27;uswrf_s5_1&#x27;]</pre></div></div></div><div class=\"sk-serial\"><div class=\"sk-item\"><div class=\"sk-serial\"><div class=\"sk-item\"><div class=\"sk-estimator sk-toggleable\"><input class=\"sk-toggleable__control sk-hidden--visually\" id=\"sk-estimator-id-18\" type=\"checkbox\" ><label for=\"sk-estimator-id-18\" class=\"sk-toggleable__label sk-toggleable__label-arrow\">VarianceThreshold</label><div class=\"sk-toggleable__content\"><pre>VarianceThreshold(threshold=0)</pre></div></div></div><div class=\"sk-item\"><div class=\"sk-estimator sk-toggleable\"><input class=\"sk-toggleable__control sk-hidden--visually\" id=\"sk-estimator-id-19\" type=\"checkbox\" ><label for=\"sk-estimator-id-19\" class=\"sk-toggleable__label sk-toggleable__label-arrow\">FunctionTransformer</label><div class=\"sk-toggleable__content\"><pre>FunctionTransformer(func=&lt;function borrar_col_na at 0x7ce250bc5cf0&gt;)</pre></div></div></div><div class=\"sk-item sk-dashed-wrapped\"><div class=\"sk-label-container\"><div class=\"sk-label sk-toggleable\"><input class=\"sk-toggleable__control sk-hidden--visually\" id=\"sk-estimator-id-20\" type=\"checkbox\" ><label for=\"sk-estimator-id-20\" class=\"sk-toggleable__label sk-toggleable__label-arrow\">imputer: IterativeImputer</label><div class=\"sk-toggleable__content\"><pre>IterativeImputer(estimator=KNeighborsRegressor())</pre></div></div></div><div class=\"sk-parallel\"><div class=\"sk-parallel-item\"><div class=\"sk-item\"><div class=\"sk-label-container\"><div class=\"sk-label sk-toggleable\"><input class=\"sk-toggleable__control sk-hidden--visually\" id=\"sk-estimator-id-21\" type=\"checkbox\" ><label for=\"sk-estimator-id-21\" class=\"sk-toggleable__label sk-toggleable__label-arrow\">estimator: KNeighborsRegressor</label><div class=\"sk-toggleable__content\"><pre>KNeighborsRegressor()</pre></div></div></div><div class=\"sk-serial\"><div class=\"sk-item\"><div class=\"sk-estimator sk-toggleable\"><input class=\"sk-toggleable__control sk-hidden--visually\" id=\"sk-estimator-id-22\" type=\"checkbox\" ><label for=\"sk-estimator-id-22\" class=\"sk-toggleable__label sk-toggleable__label-arrow\">KNeighborsRegressor</label><div class=\"sk-toggleable__content\"><pre>KNeighborsRegressor()</pre></div></div></div></div></div></div></div></div><div class=\"sk-item\"><div class=\"sk-estimator sk-toggleable\"><input class=\"sk-toggleable__control sk-hidden--visually\" id=\"sk-estimator-id-23\" type=\"checkbox\" ><label for=\"sk-estimator-id-23\" class=\"sk-toggleable__label sk-toggleable__label-arrow\">StandardScaler</label><div class=\"sk-toggleable__content\"><pre>StandardScaler()</pre></div></div></div></div></div></div></div></div><div class=\"sk-parallel-item\"><div class=\"sk-item\"><div class=\"sk-label-container\"><div class=\"sk-label sk-toggleable\"><input class=\"sk-toggleable__control sk-hidden--visually\" id=\"sk-estimator-id-24\" type=\"checkbox\" ><label for=\"sk-estimator-id-24\" class=\"sk-toggleable__label sk-toggleable__label-arrow\">cat</label><div class=\"sk-toggleable__content\"><pre>[&#x27;apcp_sf1_1&#x27;, &#x27;dlwrf_s1_1&#x27;, &#x27;dlwrf_s2_1&#x27;, &#x27;dlwrf_s4_1&#x27;, &#x27;dlwrf_s5_1&#x27;, &#x27;dswrf_s4_1&#x27;, &#x27;dswrf_s5_1&#x27;, &#x27;pres_ms5_1&#x27;, &#x27;pwat_ea1_1&#x27;, &#x27;pwat_ea5_1&#x27;, &#x27;tcdc_ea3_1&#x27;, &#x27;tcdc_ea4_1&#x27;, &#x27;tcdc_ea5_1&#x27;, &#x27;tcolc_e2_1&#x27;, &#x27;tcolc_e4_1&#x27;, &#x27;tmax_2m1_1&#x27;, &#x27;tmax_2m2_1&#x27;, &#x27;tmax_2m3_1&#x27;, &#x27;tmax_2m4_1&#x27;, &#x27;tmin_2m1_1&#x27;, &#x27;tmp_2m_1_1&#x27;, &#x27;tmp_2m_4_1&#x27;, &#x27;tmp_sfc2_1&#x27;, &#x27;tmp_sfc4_1&#x27;, &#x27;ulwrf_s1_1&#x27;, &#x27;ulwrf_s3_1&#x27;, &#x27;ulwrf_t2_1&#x27;, &#x27;ulwrf_t3_1&#x27;, &#x27;ulwrf_t4_1&#x27;, &#x27;uswrf_s2_1&#x27;]</pre></div></div></div><div class=\"sk-serial\"><div class=\"sk-item\"><div class=\"sk-serial\"><div class=\"sk-item\"><div class=\"sk-estimator sk-toggleable\"><input class=\"sk-toggleable__control sk-hidden--visually\" id=\"sk-estimator-id-25\" type=\"checkbox\" ><label for=\"sk-estimator-id-25\" class=\"sk-toggleable__label sk-toggleable__label-arrow\">OneHotEncoder</label><div class=\"sk-toggleable__content\"><pre>OneHotEncoder(handle_unknown=&#x27;ignore&#x27;, sparse_output=False)</pre></div></div></div><div class=\"sk-item\"><div class=\"sk-estimator sk-toggleable\"><input class=\"sk-toggleable__control sk-hidden--visually\" id=\"sk-estimator-id-26\" type=\"checkbox\" ><label for=\"sk-estimator-id-26\" class=\"sk-toggleable__label sk-toggleable__label-arrow\">VarianceThreshold</label><div class=\"sk-toggleable__content\"><pre>VarianceThreshold(threshold=0)</pre></div></div></div><div class=\"sk-item sk-dashed-wrapped\"><div class=\"sk-label-container\"><div class=\"sk-label sk-toggleable\"><input class=\"sk-toggleable__control sk-hidden--visually\" id=\"sk-estimator-id-27\" type=\"checkbox\" ><label for=\"sk-estimator-id-27\" class=\"sk-toggleable__label sk-toggleable__label-arrow\">imputer: IterativeImputer</label><div class=\"sk-toggleable__content\"><pre>IterativeImputer(estimator=KNeighborsClassifier())</pre></div></div></div><div class=\"sk-parallel\"><div class=\"sk-parallel-item\"><div class=\"sk-item\"><div class=\"sk-label-container\"><div class=\"sk-label sk-toggleable\"><input class=\"sk-toggleable__control sk-hidden--visually\" id=\"sk-estimator-id-28\" type=\"checkbox\" ><label for=\"sk-estimator-id-28\" class=\"sk-toggleable__label sk-toggleable__label-arrow\">estimator: KNeighborsClassifier</label><div class=\"sk-toggleable__content\"><pre>KNeighborsClassifier()</pre></div></div></div><div class=\"sk-serial\"><div class=\"sk-item\"><div class=\"sk-estimator sk-toggleable\"><input class=\"sk-toggleable__control sk-hidden--visually\" id=\"sk-estimator-id-29\" type=\"checkbox\" ><label for=\"sk-estimator-id-29\" class=\"sk-toggleable__label sk-toggleable__label-arrow\">KNeighborsClassifier</label><div class=\"sk-toggleable__content\"><pre>KNeighborsClassifier()</pre></div></div></div></div></div></div></div></div></div></div></div></div></div></div></div><div class=\"sk-item\"><div class=\"sk-estimator sk-toggleable\"><input class=\"sk-toggleable__control sk-hidden--visually\" id=\"sk-estimator-id-30\" type=\"checkbox\" ><label for=\"sk-estimator-id-30\" class=\"sk-toggleable__label sk-toggleable__label-arrow\">KNeighborsRegressor</label><div class=\"sk-toggleable__content\"><pre>KNeighborsRegressor()</pre></div></div></div></div></div></div></div>"
            ]
          },
          "metadata": {},
          "execution_count": 9
        }
      ]
    },
    {
      "cell_type": "markdown",
      "source": [
        "Una vez finalizada la creación de la pipeline, se procede a definir un **param_grid** en donde se encuentran todas las distintas opciones para realizar el preprocesamiento.\n",
        "\n",
        "En primer lugar, se encuentran las opciones de imputación para las variables numéricas que son un KNN de regresión e imputación con la media mediante SimpleImputer. Por otra parte, las distintas formas de estandarizar los datos que son **StandardScaler**, **RobustScaler** y **MaxAbsScaler**. Por último, se observa las dos opciones para imputar los datos categóricos faltantes, es decir, imputar con un KNN de clasificación e imputar con la moda.\n",
        "\n",
        "Posteriormente, el diccionario de opciones expuesto se evalúa mediante un GridSearch para encontrar la mejor combinación."
      ],
      "metadata": {
        "id": "GtKx0FShCweQ"
      }
    },
    {
      "cell_type": "code",
      "source": [
        "# Definimos parámetros para los imputadores\n",
        "from sklearn.metrics import r2_score\n",
        "import time\n",
        "warnings.filterwarnings('ignore')\n",
        "\n",
        "param_grid = {\n",
        "    'preprocessor__num__imputer':[IterativeImputer(estimator=  KNeighborsRegressor),SimpleImputer(strategy = 'mean')],\n",
        "    'preprocessor__num__scaler': [StandardScaler(), RobustScaler(), MaxAbsScaler()],\n",
        "    'preprocessor__cat__imputer': [IterativeImputer(estimator = KNeighborsClassifier), SimpleImputer(strategy = 'most_frequent')],\n",
        "}\n",
        "\n",
        "# Creamos una función para evitar repetir código\n",
        "\n",
        "def evaluar_grid(param_grid, pipeline, x_train, y_train, x_test, y_test):\n",
        "    # Crear un objeto GridSearchCV con el espacio de búsqueda, el estimador, la validación cruzada y la métrica de evaluación\n",
        "    tscv = TimeSeriesSplit(n_splits=3)\n",
        "    grid_search = GridSearchCV(pipeline, param_grid, cv=tscv, scoring='r2')\n",
        "\n",
        "    # Medimos tiempo de inicio\n",
        "    start_time = time.time()\n",
        "\n",
        "    # Entrenamos con los datos de entrenamieto\n",
        "    grid_search.fit(x_train, y_train)\n",
        "\n",
        "    # Medimos tiempo de fin\n",
        "    end_time = time.time()\n",
        "\n",
        "    # Medimos la duración total\n",
        "    duracion = end_time - start_time\n",
        "\n",
        "    # Imprimir los mejores hiperparámetros\n",
        "    print('Los mejores hiperparámetros del modelo son los siguientes:', grid_search.best_params_)\n",
        "\n",
        "    # Obtener el score del mejor modelo\n",
        "    score = grid_search.best_score_\n",
        "    print('El score del mejor modelo sobre los datos de entrenamiento es:', score)\n",
        "\n",
        "    # Obtener el mejor modelo\n",
        "    best_model = grid_search.best_estimator_\n",
        "\n",
        "    # Predecir el conjunto de prueba con el mejor modelo\n",
        "    y_pred = best_model.predict(x_test)\n",
        "\n",
        "    # Calcular el r2 para el mejor modelo sobre los datos de prueba\n",
        "    r2_value = r2_score(y_test, y_pred)\n",
        "    print('El r2 para el mejor modelo sobre los datos de test es:', r2_value)\n",
        "    print('La duración medida en segundos es:', duracion)\n",
        "\n",
        "evaluar_grid(param_grid, pipeline, x_train, y_train, x_test, y_test)\n"
      ],
      "metadata": {
        "id": "Z22rH25TEev1",
        "colab": {
          "base_uri": "https://localhost:8080/"
        },
        "outputId": "4ec88c65-31b6-41d9-8078-a90e7f897bbd"
      },
      "execution_count": null,
      "outputs": [
        {
          "output_type": "stream",
          "name": "stdout",
          "text": [
            "Los mejores hiperparámetros del modelo son los siguientes: {'preprocessor__cat__imputer': SimpleImputer(strategy='most_frequent'), 'preprocessor__num__imputer': SimpleImputer(), 'preprocessor__num__scaler': StandardScaler()}\n",
            "El score del mejor modelo sobre los datos de entrenamiento es: 0.7875301703656349\n",
            "El r2 para el mejor modelo sobre los datos de test es: 0.7454775886062168\n",
            "La duración medida en segundos es: 2.267087459564209\n"
          ]
        }
      ]
    },
    {
      "cell_type": "markdown",
      "source": [
        "Se observa que la mejor combinación de pasos para realizar un preprocesamiento que maximice el rendimiento del modelo es realizar la imputación categórica con la moda, la imputación numérica con la media y por último realizar la estandarización de los datos numéricos mediante la función StandardScaler.\n",
        "\n",
        "El resultado de la evaluación con el coeficiente $R^2$ del modelo KNN sobre los datos de test es 0.7454.\n",
        "\n",
        "También se observa que el tiempo de procesamiento medido en segundos en este caso es de 2,26 segundos aproximadamente.\n",
        "\n"
      ],
      "metadata": {
        "id": "vsHSzSl0EZP1"
      }
    },
    {
      "cell_type": "markdown",
      "source": [
        "## **Comparación no ensembles sin ajuste de hiperparámetros**\n",
        "\n",
        "\n",
        "En este apartado se compararán distintos métodos no ensembles sin ajuste de hiperparámetros. En el contexto del aprendizaje automático un método ensamble es aquel que solo utiliza un modelo para hacer predicciones. Son métodos que se centran en crear, entrenar y evaluar un solo modelo de manera efectiva. Los tres métodos que se utilizarán serán **KNN**, **árbol** y **SVM** **lineal** y **radial**. A continuación se hace una pequeña descripcición de cada uno:\n",
        "\n",
        "- **KNN:** su principal objetivo es asignar una etiqueta de clase a un punto de datos desconocido basándose en la mayoría de las etiquetas de clase de los puntos de datos vecinos más cercanos en un conjunto de datos de entrenamiento.Para ello primero calcula la distancia entre el item a clasificar y el resto de items del conjunto de datos de entrenamiento, luego selecciona los \"k\" elementos más cercanos y de esos elementos se ve cuales conforman una mayoría de clase para poder clasificar una nuevo dato.\n",
        "\n",
        "\n",
        "- **Árbol de decisión:** modelos que toman decisiones basadas en una serie de preguntas sobre las características de los datos. Cada nodo del árbol representa una pregunta, y cada rama representa una respuesta a esa pregunta. El árbol se divide en base a las características que mejor separan las clases o reducen la variabilidad.\n",
        "\n",
        "- **SVM:** la idea principal es encontrar un hiperplano en un espacio de características que mejor se ajuste a los datos de manera que se minimice la diferencia entre las predicciones y los valores reales. La principal diferencia entre los SVM lineal y SVM con kernel gaussiano se encuentra en como los modelos se ajustan a la relación entre las variables. El **SVM Lineal** busca un hiperplano lineal y el **SVM Radial** transforma los datos en un espacio de características de mayor dimensión mediante una función de kernel radial, lo que permite modelar relaciones no lineales entre las variables predictoras y la variable respuesta."
      ],
      "metadata": {
        "id": "2DiYOvBZ3jXI"
      }
    },
    {
      "cell_type": "code",
      "source": [
        "regressor = KNeighborsRegressor()\n",
        "pipeline = Pipeline([\n",
        "    ('preprocessor', preprocessor),\n",
        "    ('regressor', regressor)\n",
        "])"
      ],
      "metadata": {
        "id": "Sgtykk7-3mHQ"
      },
      "execution_count": null,
      "outputs": []
    },
    {
      "cell_type": "code",
      "source": [
        "# Entrenar y evaluar el mejor método entre los no ensambles\n",
        "param_grid = {\n",
        "    'regressor': [KNeighborsRegressor(), DecisionTreeRegressor(), SVR(kernel = 'linear'), SVR(kernel = 'rbf')]\n",
        "}\n",
        "\n",
        "\n",
        "evaluar_grid(param_grid, pipeline, x_train, y_train, x_test, y_test)\n",
        "\n"
      ],
      "metadata": {
        "id": "bGymdXWB35Pd",
        "colab": {
          "base_uri": "https://localhost:8080/"
        },
        "outputId": "6de89912-66e5-45e0-d20d-4f89ce038cda"
      },
      "execution_count": null,
      "outputs": [
        {
          "output_type": "stream",
          "name": "stdout",
          "text": [
            "Los mejores hiperparámetros del modelo son los siguientes: {'regressor': KNeighborsRegressor()}\n",
            "El score del mejor modelo sobre los datos de entrenamiento es: 0.7881002805257419\n",
            "El r2 para el mejor modelo sobre los datos de test es: 0.7500853881453912\n",
            "La duración medida en segundos es: 18.31658172607422\n"
          ]
        }
      ]
    },
    {
      "cell_type": "markdown",
      "source": [
        "En este caso se puede observar con claridad que el mejor modelo ensemble sin ajuste de hiperparámetros resulta ser un KNN.\n",
        "\n",
        "El resultado de la evaluación con el coeficiente $R^2$ del modelo KNN sobre los datos de test es 0.75.\n",
        "\n",
        "También se observa que el tiempo de procesamiento medido en segundos en este caso es de 18.31 segundos aproximadamente.\n",
        "\n"
      ],
      "metadata": {
        "id": "6AXyfX4ZmpYY"
      }
    },
    {
      "cell_type": "markdown",
      "source": [
        "## **Comparación no ensembles con ajuste de hiperparámetros**\n",
        "\n",
        "En este apartado se realizará la misma tarea pero ahora ajustando los hiperparámetros de los modelos mediante un Grid Search, que es una búsqueda en rejilla que prueba todas las posibles combinaciones de valores de los hiperparámetros. Los hiperparámetros a ajustar son los siguientes:\n",
        "- **KNN:** el hiperparámetro ***k*** representa la cantidad de vecinos que se tomarán en cuenta para hacer predicciones.\n",
        "\n",
        "- **Árbol de decisión:** se ajustarán dos hiperparámetros distintos, ***max_depth*** que limita la profundidad máxima del árbol y ***min_samples_split*** que especifica el número mínimo de muestras requeridas para dividir un nodo.\n",
        "\n",
        "- **SVM:** para la parte lineal se ajustará el hiperparámetro ***C*** que controla la penalización por errores y complejidad del modelo. Si ***C*** es grande se le da mucha importancia a que todos los datos de entrenamiento se ajusten correctamente y si ***C*** es pequeño al revés. En la parte Radial se ajustará también ***C*** y ***gamma*** que controla la influencia de un solo ejemplo de entrenamiento y la flexibilidad del modelo."
      ],
      "metadata": {
        "id": "Xipi8Bn0EXpA"
      }
    },
    {
      "cell_type": "code",
      "source": [
        "# Definir los posibles valores de los hiperparámetros a explorar con una busquea en cuadrícula\n",
        "\n",
        "param_grid = [{\n",
        "    'regressor':[KNeighborsRegressor()], # opción para el estimador\n",
        "    'regressor__n_neighbors':[3,5,7],  # opciones para el nº de vecinos\n",
        "\n",
        "},\n",
        "{\n",
        "    'regressor':[DecisionTreeRegressor()], # opción para el estimador\n",
        "    'regressor__max_depth':[2,4,6,10],\n",
        "    'regressor__min_samples_split':[100,50,10]\n",
        "},\n",
        "{\n",
        "    'regressor':[SVR(kernel='linear')],\n",
        "    'regressor__C':[0.0,1,10,100],\n",
        "},\n",
        "{\n",
        "    'regressor':[SVR(kernel='rbf')],\n",
        "    \"regressor__C\": [0.01, 0.1, 1, 10, 100],\n",
        "    \"regressor__gamma\": [\"scale\", \"auto\", 0.0001, 0.1, 1, 10]\n",
        "}]\n",
        "\n",
        "evaluar_grid(param_grid, pipeline, x_train, y_train, x_test, y_test)"
      ],
      "metadata": {
        "id": "rs8JnH4z9XWg",
        "colab": {
          "base_uri": "https://localhost:8080/"
        },
        "outputId": "87e97aa2-29fd-4cb9-9ed8-834996bbb643"
      },
      "execution_count": null,
      "outputs": [
        {
          "output_type": "stream",
          "name": "stdout",
          "text": [
            "Los mejores hiperparámetros del modelo son los siguientes: {'regressor': KNeighborsRegressor(n_neighbors=7), 'regressor__n_neighbors': 7}\n",
            "El score del mejor modelo sobre los datos de entrenamiento es: 0.7953041773184562\n",
            "El r2 para el mejor modelo sobre los datos de test es: 0.762910409245679\n",
            "La duración medida en segundos es: 225.29648613929749\n"
          ]
        }
      ]
    },
    {
      "cell_type": "markdown",
      "source": [
        "En este caso se observa que para los modelos no ensembles con ajuste de hiperparámetros el modelo que mejor resulta es el KNN con un número total de vecinos igual a 7.\n",
        "\n",
        "Por otra parte, se observa que el coeficiente $ R^2 $ para la muestra test es igual a 0.7629, o sea, 76.29% lo que supone un incremento con respecto al caso anterior en el que no se ajustaban hiperparámetros.\n",
        "\n",
        "Por último, el tiempo de procesamiento es de 225 segundos que son aproximadamente 3 minutos y 46 segundos. Es decir, el tiempo aumenta considerablemente con respecto al caso anterior."
      ],
      "metadata": {
        "id": "P5mKNJIBsy8t"
      }
    },
    {
      "cell_type": "markdown",
      "source": [
        "## **Comparación ensambles sin ajuste de hiperparámetros**\n",
        "\n",
        "Los métodos ensemble se refieren a técnicas que combinan las predicciones de múltiples modelos para mejorar el rendimiento del modelo final. Así consiguen no depender de un solo modelo y consiguen resultados más fiables y robustos.  Existen dos tipos de métodos ensamble: bagging y boosting.\n",
        "\n",
        "- **Bagging**: se construyen múltiples modelos independientes utilizando conjuntos de entrenamiento generados mediante el muestreo bootstrap ( que consiste en tomar muestras con reemplazo de un conjunto de datos). Los modelos se entrenan de forma independiente y las predicciones finales se obtienen haciendo la media de cada predicción individual. El modelo ***Random Forest*** es uno de los más conocidos que utilizan Bagging.\n",
        "\n",
        "- **Boosting**: los modelos se construyen de manera secuencial de manera que cada modelo nuevo se centra en mejorar y corregir los errores del anterior. La predicción final es una combinación ponderada de todos los modelos anteriores. ***Gradient Boosting*** es uno de los métodos más conocidos que lo utilizan\n",
        "\n",
        "El método **Random Forest** construye múltiples árboles de decisión con distintas muestras de entrenamiento aleatorias y distintas. Cada árbol se entrena de forma independiente y la predicción final es el promedio de las predicciones de cada árbol. Es un método muy robusto frente al sobreajuste por la combinación de árboles.\n",
        "\n",
        "El método **Gradient Boosting** utiliza un proceso secuencial para la construcción de los árboles, se crea uno inicial y los posteriores se centran en corregir los errores de los anteriores. Es un método muy potente a la hora de modelar relaciones complejas e incluye técnicas de regularización para evitar el sobreajuste que es una de sus principales desventajas.\n",
        "\n",
        "Es interesante destacar que en el caso de los modelos RandomForest se introduce la instrucción \"random_state=42\" ya que en este caso se trabaja con los predictores que se encuentran en las columnas de la base de datos y no se pierda la temporalidad a diferencia de cuando se trabaja con las instancias que si se introduce aleatoriedad, se llega a perder la temporalidad.\n",
        "\n"
      ],
      "metadata": {
        "id": "cT3fbjih7L6U"
      }
    },
    {
      "cell_type": "code",
      "source": [
        "regressor = KNeighborsRegressor()\n",
        "pipeline = Pipeline([\n",
        "    ('preprocessor', preprocessor),\n",
        "    ('regressor', regressor)\n",
        "])"
      ],
      "metadata": {
        "id": "oQhjeRbz7QO1"
      },
      "execution_count": null,
      "outputs": []
    },
    {
      "cell_type": "code",
      "source": [
        "from xgboost import XGBRegressor\n",
        "from sklearn.ensemble import RandomForestRegressor\n",
        "param_grid = {\n",
        "    'regressor': [RandomForestRegressor(random_state = 42), XGBRegressor(random_state = 42)]  # poner porque ahora se pone el random state\n",
        "}\n",
        "\n",
        "best_model = None\n",
        "def ensamble_modelos(param_grid, pipeline, x_train, y_train, x_test, y_test):\n",
        "    # Crear un objeto GridSearchCV con el espacio de búsqueda, el estimador, la validación cruzada y la métrica de evaluación\n",
        "    tscv = TimeSeriesSplit(n_splits=3)\n",
        "    random_search = RandomizedSearchCV(pipeline, param_grid, cv = tscv, n_iter=10, scoring = 'r2')\n",
        "\n",
        "    # Medimos tiempo de inicio\n",
        "    start_time = time.time()\n",
        "\n",
        "    # Ajustar el modelo a los datos de entrenamiento\n",
        "    random_search.fit(x_train, y_train)\n",
        "\n",
        "    # Medimos tiempo de fin\n",
        "    end_time = time.time()\n",
        "\n",
        "    # Medimos la duración total\n",
        "    duracion = end_time - start_time\n",
        "\n",
        "    # Imprimir los mejores hiperparámetros\n",
        "    print('Los mejores hiperparámetros del modelo son los siguientes:', random_search.best_params_)\n",
        "\n",
        "    # Obtener el score del mejor modelo\n",
        "    score = random_search.best_score_\n",
        "    print('El score del mejor modelo sobre los datos de entrenamiento es:', score)\n",
        "    global best_model\n",
        "\n",
        "\n",
        "    # Obtener el mejor modelo\n",
        "    best_model = random_search.best_estimator_\n",
        "\n",
        "    # Predecir el conjunto de prueba con el mejor modelo\n",
        "    y_pred = best_model.predict(x_test)\n",
        "\n",
        "    # Calcular el r2 para el mejor modelo sobre los datos de prueba\n",
        "    r2_value = r2_score(y_test, y_pred)\n",
        "    print('El r2 para el mejor modelo sobre los datos de test es:', r2_value)\n",
        "    print('La duración medida en segundos es:', duracion)\n",
        "\n",
        "\n",
        "\n",
        "ensamble_modelos(param_grid, pipeline, x_train, y_train, x_test, y_test)\n"
      ],
      "metadata": {
        "id": "c_Jez4WH7V62",
        "colab": {
          "base_uri": "https://localhost:8080/"
        },
        "outputId": "2f27d5db-6d3b-4ab0-c41e-4b26dfbfb89c"
      },
      "execution_count": null,
      "outputs": [
        {
          "output_type": "stream",
          "name": "stdout",
          "text": [
            "Los mejores hiperparámetros del modelo son los siguientes: {'regressor': RandomForestRegressor(random_state=42)}\n",
            "El score del mejor modelo sobre los datos de entrenamiento es: 0.8246200337009025\n",
            "El r2 para el mejor modelo sobre los datos de test es: 0.8139255674383261\n",
            "La duración medida en segundos es: 45.28426241874695\n"
          ]
        }
      ]
    },
    {
      "cell_type": "markdown",
      "source": [
        "En este caso se observa que para los modelos ensembles sin ajuste de hiperparámetros el modelo que mejor resulta es un RandomForest.\n",
        "\n",
        "Por otra parte, se observa que el coeficiente $ R^2 $ para la muestra test es igual a 0.8139, o sea, 81.39%.\n",
        "\n",
        "Por último, el tiempo de procesamiento es de 44.9 segundos aproximadamente."
      ],
      "metadata": {
        "id": "rjMrR5fkvDAX"
      }
    },
    {
      "cell_type": "markdown",
      "source": [
        "## **Comparación ensambles con ajuste de hiperparámetros.**\n",
        "\n",
        "Los hiperparámetros que se van a evaluar son los siguientes:\n",
        "\n",
        "- **Random Forest:** el primero es  el ***Número de árboles*** o ***num_trees*** que representa la cantidad de árboles de decisión que se van a construir. Un número alto mejorará la precisión del modelo pero también hará que el coste computacional sea mayor. El otro hiperparámetro es el ***Número Máximo de Características*** consideradas o ***mtry*** que indica el número máximos de características a considerar para cada división de nodo. Un valor menor controlará la diversidad y el sobreajuste y uno mayor hará que los árboles sean más similares entre sí.\n",
        "\n",
        "- **Gradient Boosting:** el primero es el ***Número de rondas*** o ***nrounds*** que indica la cantidad de árboles que se van a construir. Un valor más alto construye un conjunto de árboles más complejo pero aumentando el sobreajuste y el coste computacional. El otro hiperparámetro es la ***Tasa de Aprendizaje*** o ***Shrinkage/Eta*** que controla la contribución de cada árbol al modelo final. Si la tasa es baja significa que cada árbol tiene una influencia menor y se requieren más. Si se reduce la tasa se puede mejorar la generalización del modelo pero se deberá aumentar el número de árboles construidos.\n",
        "\n"
      ],
      "metadata": {
        "id": "Yknedn4hKy8J"
      }
    },
    {
      "cell_type": "code",
      "source": [
        "param_grid = [\n",
        "    {\n",
        "        \"regressor\": [RandomForestRegressor(random_state = 42)],\n",
        "        \"regressor__n_estimators\": [10, 50, 100, 200],\n",
        "        \"regressor__max_features\": [0.5, \"sqrt\", \"log2\"]\n",
        "\n",
        "    },\n",
        "    {\n",
        "        \"regressor\": [XGBRegressor(random_state=42)],\n",
        "        \"regressor__n_estimators\": [10, 50, 100, 200],\n",
        "        \"regressor__learning_rate\": [0.01, 0.1, 0.2, 0.3]\n",
        "    }\n",
        "]\n",
        "\n",
        "ensamble_modelos(param_grid, pipeline, x_train, y_train, x_test, y_test)"
      ],
      "metadata": {
        "id": "6MbE_4NFK2Yl",
        "colab": {
          "base_uri": "https://localhost:8080/"
        },
        "outputId": "5e2cc7ce-4206-4e1f-8e39-6cc478b2ba54"
      },
      "execution_count": null,
      "outputs": [
        {
          "output_type": "stream",
          "name": "stdout",
          "text": [
            "Los mejores hiperparámetros del modelo son los siguientes: {'regressor__n_estimators': 100, 'regressor__max_features': 'log2', 'regressor': RandomForestRegressor(max_features='log2', random_state=42)}\n",
            "El score del mejor modelo sobre los datos de entrenamiento es: 0.82953439733827\n",
            "El r2 para el mejor modelo sobre los datos de test es: 0.8214833664779111\n",
            "La duración medida en segundos es: 77.11188912391663\n"
          ]
        }
      ]
    },
    {
      "cell_type": "markdown",
      "source": [
        "En este caso se observa que para los modelos ensembles con ajuste de hiperparámetros el modelo que mejor resulta es el RandomForest con 100 árboles y el número máximo de predictores es el logaritmo en base dos del total.\n",
        "\n",
        "Por otra parte, se observa que el coeficiente $ R^2 $ para la muestra test es igual a 0.8214, o sea, 82.14% lo que supone un incremento con respecto al caso anterior en el que no se ajustaban hiperparámetros.\n",
        "\n",
        "Por último, el tiempo de procesamiento es de 77 segundos, lo que equivale a 1 minuto con 16 segundos. Se destaca que en este caso también hay un aumento en el tiempo con respecto al caso anterior."
      ],
      "metadata": {
        "id": "pMFyYGSIvx60"
      }
    },
    {
      "cell_type": "markdown",
      "source": [
        "## **Entrenamiento del modelo final**\n",
        "\n",
        "Una vez entrenados todos los modelos se obtiene que el mejor de ellos en cuanto a su rendimiento es el RandomForest con ajuste de hiperparámetros que obtiene un $ R^2 $ de 0.82 por lo que se procede a entrenar este modelo final con todos los datos de los que se dispone.\n"
      ],
      "metadata": {
        "id": "nkhn13Zx0UvF"
      }
    },
    {
      "cell_type": "code",
      "source": [
        "# Entrenar el modelo con todos los datos\n",
        "\n",
        "from joblib import dump\n",
        "\n",
        "# Aplicar las mismas transformaciones de preprocesamiento\n",
        "x_transformed = best_model[:-1].transform(X)\n",
        "# Ajustar el mejor modelo con el conjunto de datos completo\n",
        "best_model[-1].fit(x_transformed,y)\n",
        "\n",
        "# Guardar el modelo entrenado en un archivo\n",
        "dump(best_model, '/content/drive/MyDrive/Práctica 2/modelo.joblib') # Guardar el pipeline con el mejor modelo en un archivo joblib"
      ],
      "metadata": {
        "id": "Z26tE5-M8IOw",
        "colab": {
          "base_uri": "https://localhost:8080/"
        },
        "outputId": "c54507c9-1f3f-442b-d363-365e53583eb8"
      },
      "execution_count": null,
      "outputs": [
        {
          "output_type": "execute_result",
          "data": {
            "text/plain": [
              "['/content/drive/MyDrive/Práctica 2/modelo.joblib']"
            ]
          },
          "metadata": {},
          "execution_count": 43
        }
      ]
    },
    {
      "cell_type": "markdown",
      "source": [
        "## **Cargar y analizar el fichero para realizar predicciones**\n",
        "\n",
        "En este apartado se procede a cargar los datos denominados \"compet\" que son datos de los cuales no se conoce la variable respuesta. Esto se realiza para posteriormente realizar las predicciones a partir de ellos con el mejor modelo seleccionado, en este caso, el RandomForest con ajuste de hiperparámetros."
      ],
      "metadata": {
        "id": "ivzJVdQHMvJI"
      }
    },
    {
      "cell_type": "code",
      "source": [
        "# Subir \"corp\" para predicciones\n",
        "\n",
        "uploaded = files.upload()\n",
        "\n",
        "for fn in uploaded.keys():\n",
        "  print('User')"
      ],
      "metadata": {
        "id": "i51Y2ybmMy4L"
      },
      "execution_count": null,
      "outputs": []
    },
    {
      "cell_type": "code",
      "source": [
        "# Especifico la ruta del archivo\n",
        "ruta_del_archivo = '/content/drive/MyDrive/Práctica 2/compet.feather'\n",
        "\n",
        "# Leer el archivo\n",
        "tabla = feather.read_table(ruta_del_archivo)\n",
        "\n",
        "# Creamos el data frame\n",
        "df_comp = tabla.to_pandas()"
      ],
      "metadata": {
        "id": "AizUe_iPNkva"
      },
      "execution_count": null,
      "outputs": []
    },
    {
      "cell_type": "code",
      "source": [
        "pred_comp = best_model.predict(df_comp)\n",
        "\n",
        "#Guardar las predicciones en un archivo\n",
        "# Creamos un dataframe con las predicciones\n",
        "\n",
        "df_comp2 = pd.DataFrame(pred_comp, columns=[\"Pred_comp\"])\n",
        "\n",
        "#Guardamos el dataframe en un archivo csv\n",
        "df_comp2.to_csv(\"/content/drive/MyDrive/Práctica 2/predicciones_comp.csv\", index=False)"
      ],
      "metadata": {
        "id": "SLFGB324NuqK"
      },
      "execution_count": null,
      "outputs": []
    },
    {
      "cell_type": "markdown",
      "source": [
        "## **Investigación Adicional: Hyperband**\n",
        "\n",
        "En el ámbito del aprendizaje automático existe la desafiante tarea de ajustar los hiperparámetros correctos para los distintos modelos que se pueden construir.\n",
        "\n",
        "Sin embargo, seleccionar hiperparámetros de manera precisa no es una tarea sencilla y ahora expondremos una manera diferente a la tradicional que permite hacerlo de manera más óptima.\n",
        "\n",
        "Hyperband es un método de ajuste de hiperparámetros que se basa en la optimización de recursos para encontrar la mejor configuración de hiperparámetros en un conjunto dado. A diferencia de enfoques estudiados con anterioridad como el GridSearchCV o el RandomSearch, **Hyperband** es una estrategia eficiente para la optimización de hiperparámetros que combina la exploración aleatoria con la asignación adaptativa de recursos, lo que permite extraer combinaciones de hiperparámetros que permita obtener un modelo con un alto rendimiento de manera mas eficiente que los enfoques tradicionales de búsqueda exhaustiva.\n",
        "\n",
        "Los pasos que sigue el proceso son los siguientes:\n",
        "\n",
        "* 1- **Configuración de Recursos:** Hyperband trabaja con un presupuesto fijo de recursos de entrenamiento, que se distribuye entre múltiples configuraciones de hiperparámetros.\n",
        "\n",
        "* 2- **División de Configuraciones:** Se dividen las configuraciones en diferentes grupos, llamados \"bandas\", de manera que casa grupo contiene un número diferente de configuraciones. Las configuraciones en bandas más altas son evaluadas con más recursos.\n",
        "\n",
        "* 3- **Configuraciones Aleatorias:** Se realiza una búsqueda aleatoria para entrenar y evaluar un modelo con la configuración de hiperparámetros asignada a cada banda. Los modelos se entrenan hasta alcanzar el límite de recursos asignados.\n",
        "\n",
        "* 4- **Eliminación de peores configuraciones:** Después de cada iteración, se descartan las configuraciones menos prometedoras. Esto asegura que los recursos se centren en las configuraciones más comprometedoras.\n",
        "\n",
        "* 5- **Iteraciones Múltiples:** El proceso se repite en varias iteraciones, cada vez asignando más recursos a las configuraciones más prometedoras descubiertas en iteraciones anteriores.\n",
        "\n",
        "Por lo tanto, una de las ventajas principales del Hyperband es que se enfoca principalmente en las configuraciones más prometedoras y descarta rápidamente las menos prometedoras, es decir, es un método que lleva al uso eficiente del tiempo y los recursos.\n",
        "\n",
        "En primer lugar, se define la función de pérdida para maximizar el coeficiente de determinación $R^2$. Luego, se crea una función que crea y entrena un modelo de regresión, después calcula la función de pérdida en el conjunto de datos de prueba.\n",
        "\n",
        "Una vez hecho eso se puede iniciar el ajuste de hiperparámetros utilizando el algoritmo Hyperband hasta obtener la mejor combinación y por lo tanto el modelo con el mejor rendimiento.\n",
        "\n",
        "En este caso no se ha podido completar el proceso debido a que se rompe la ejecución del algoritmo devolviendo un error que hace referencia a que los\n",
        "\"trials\" no se pueden completar. Esto se puede deber a que el preprocesamiento de los datos no sea el adecuado ya que contiene un método de imputación basado en un modelo KNN de regresión mediante un IterativeImputer.\n"
      ],
      "metadata": {
        "id": "vHVvZoaG28du"
      }
    },
    {
      "cell_type": "code",
      "source": [
        "# Definir la función de pérdida como el error de clasificación\n",
        "def loss_function(model, X, y):\n",
        "  y_pred = model.predict(X)\n",
        "  return r2_score(y, y_pred)"
      ],
      "metadata": {
        "id": "d53t56l4AWbq"
      },
      "execution_count": null,
      "outputs": []
    },
    {
      "cell_type": "code",
      "source": [
        "# Importar las librerías necesarias para Hyperband\n",
        "import numpy as np\n",
        "import pandas as pd\n",
        "from sklearn.datasets import load_iris\n",
        "from sklearn.neighbors import KNeighborsClassifier\n",
        "from sklearn.model_selection import train_test_split\n",
        "from sklearn.metrics import accuracy_score\n",
        "!pip install ray\n",
        "!pip install -U tensorboardx\n",
        "!pip install -U ray[tune]\n",
        "from ray import ray,tune\n",
        "\n",
        "ray.tune.tune"
      ],
      "metadata": {
        "colab": {
          "base_uri": "https://localhost:8080/"
        },
        "id": "Av1RHB6CAOuD",
        "outputId": "c8cc237a-5981-45ed-a3ff-6a0e8bea2f70"
      },
      "execution_count": null,
      "outputs": [
        {
          "output_type": "stream",
          "name": "stdout",
          "text": [
            "Requirement already satisfied: ray in /usr/local/lib/python3.10/dist-packages (2.8.1)\n",
            "Requirement already satisfied: click>=7.0 in /usr/local/lib/python3.10/dist-packages (from ray) (8.1.7)\n",
            "Requirement already satisfied: filelock in /usr/local/lib/python3.10/dist-packages (from ray) (3.13.1)\n",
            "Requirement already satisfied: jsonschema in /usr/local/lib/python3.10/dist-packages (from ray) (4.19.2)\n",
            "Requirement already satisfied: msgpack<2.0.0,>=1.0.0 in /usr/local/lib/python3.10/dist-packages (from ray) (1.0.7)\n",
            "Requirement already satisfied: packaging in /usr/local/lib/python3.10/dist-packages (from ray) (23.2)\n",
            "Requirement already satisfied: protobuf!=3.19.5,>=3.15.3 in /usr/local/lib/python3.10/dist-packages (from ray) (3.20.3)\n",
            "Requirement already satisfied: pyyaml in /usr/local/lib/python3.10/dist-packages (from ray) (6.0.1)\n",
            "Requirement already satisfied: aiosignal in /usr/local/lib/python3.10/dist-packages (from ray) (1.3.1)\n",
            "Requirement already satisfied: frozenlist in /usr/local/lib/python3.10/dist-packages (from ray) (1.4.0)\n",
            "Requirement already satisfied: requests in /usr/local/lib/python3.10/dist-packages (from ray) (2.31.0)\n",
            "Requirement already satisfied: numpy>=1.19.3 in /usr/local/lib/python3.10/dist-packages (from ray) (1.23.5)\n",
            "Requirement already satisfied: attrs>=22.2.0 in /usr/local/lib/python3.10/dist-packages (from jsonschema->ray) (23.1.0)\n",
            "Requirement already satisfied: jsonschema-specifications>=2023.03.6 in /usr/local/lib/python3.10/dist-packages (from jsonschema->ray) (2023.11.2)\n",
            "Requirement already satisfied: referencing>=0.28.4 in /usr/local/lib/python3.10/dist-packages (from jsonschema->ray) (0.31.1)\n",
            "Requirement already satisfied: rpds-py>=0.7.1 in /usr/local/lib/python3.10/dist-packages (from jsonschema->ray) (0.13.2)\n",
            "Requirement already satisfied: charset-normalizer<4,>=2 in /usr/local/lib/python3.10/dist-packages (from requests->ray) (3.3.2)\n",
            "Requirement already satisfied: idna<4,>=2.5 in /usr/local/lib/python3.10/dist-packages (from requests->ray) (3.6)\n",
            "Requirement already satisfied: urllib3<3,>=1.21.1 in /usr/local/lib/python3.10/dist-packages (from requests->ray) (2.0.7)\n",
            "Requirement already satisfied: certifi>=2017.4.17 in /usr/local/lib/python3.10/dist-packages (from requests->ray) (2023.11.17)\n",
            "Requirement already satisfied: tensorboardx in /usr/local/lib/python3.10/dist-packages (2.6.2.2)\n",
            "Requirement already satisfied: numpy in /usr/local/lib/python3.10/dist-packages (from tensorboardx) (1.23.5)\n",
            "Requirement already satisfied: packaging in /usr/local/lib/python3.10/dist-packages (from tensorboardx) (23.2)\n",
            "Requirement already satisfied: protobuf>=3.20 in /usr/local/lib/python3.10/dist-packages (from tensorboardx) (3.20.3)\n",
            "Requirement already satisfied: ray[tune] in /usr/local/lib/python3.10/dist-packages (2.8.1)\n",
            "Requirement already satisfied: click>=7.0 in /usr/local/lib/python3.10/dist-packages (from ray[tune]) (8.1.7)\n",
            "Requirement already satisfied: filelock in /usr/local/lib/python3.10/dist-packages (from ray[tune]) (3.13.1)\n",
            "Requirement already satisfied: jsonschema in /usr/local/lib/python3.10/dist-packages (from ray[tune]) (4.19.2)\n",
            "Requirement already satisfied: msgpack<2.0.0,>=1.0.0 in /usr/local/lib/python3.10/dist-packages (from ray[tune]) (1.0.7)\n",
            "Requirement already satisfied: packaging in /usr/local/lib/python3.10/dist-packages (from ray[tune]) (23.2)\n",
            "Requirement already satisfied: protobuf!=3.19.5,>=3.15.3 in /usr/local/lib/python3.10/dist-packages (from ray[tune]) (3.20.3)\n",
            "Requirement already satisfied: pyyaml in /usr/local/lib/python3.10/dist-packages (from ray[tune]) (6.0.1)\n",
            "Requirement already satisfied: aiosignal in /usr/local/lib/python3.10/dist-packages (from ray[tune]) (1.3.1)\n",
            "Requirement already satisfied: frozenlist in /usr/local/lib/python3.10/dist-packages (from ray[tune]) (1.4.0)\n",
            "Requirement already satisfied: requests in /usr/local/lib/python3.10/dist-packages (from ray[tune]) (2.31.0)\n",
            "Requirement already satisfied: numpy>=1.19.3 in /usr/local/lib/python3.10/dist-packages (from ray[tune]) (1.23.5)\n",
            "Requirement already satisfied: pandas in /usr/local/lib/python3.10/dist-packages (from ray[tune]) (1.5.3)\n",
            "Requirement already satisfied: tensorboardX>=1.9 in /usr/local/lib/python3.10/dist-packages (from ray[tune]) (2.6.2.2)\n",
            "Requirement already satisfied: pyarrow>=6.0.1 in /usr/local/lib/python3.10/dist-packages (from ray[tune]) (10.0.1)\n",
            "Requirement already satisfied: fsspec in /usr/local/lib/python3.10/dist-packages (from ray[tune]) (2023.6.0)\n",
            "Requirement already satisfied: attrs>=22.2.0 in /usr/local/lib/python3.10/dist-packages (from jsonschema->ray[tune]) (23.1.0)\n",
            "Requirement already satisfied: jsonschema-specifications>=2023.03.6 in /usr/local/lib/python3.10/dist-packages (from jsonschema->ray[tune]) (2023.11.2)\n",
            "Requirement already satisfied: referencing>=0.28.4 in /usr/local/lib/python3.10/dist-packages (from jsonschema->ray[tune]) (0.31.1)\n",
            "Requirement already satisfied: rpds-py>=0.7.1 in /usr/local/lib/python3.10/dist-packages (from jsonschema->ray[tune]) (0.13.2)\n",
            "Requirement already satisfied: python-dateutil>=2.8.1 in /usr/local/lib/python3.10/dist-packages (from pandas->ray[tune]) (2.8.2)\n",
            "Requirement already satisfied: pytz>=2020.1 in /usr/local/lib/python3.10/dist-packages (from pandas->ray[tune]) (2023.3.post1)\n",
            "Requirement already satisfied: charset-normalizer<4,>=2 in /usr/local/lib/python3.10/dist-packages (from requests->ray[tune]) (3.3.2)\n",
            "Requirement already satisfied: idna<4,>=2.5 in /usr/local/lib/python3.10/dist-packages (from requests->ray[tune]) (3.6)\n",
            "Requirement already satisfied: urllib3<3,>=1.21.1 in /usr/local/lib/python3.10/dist-packages (from requests->ray[tune]) (2.0.7)\n",
            "Requirement already satisfied: certifi>=2017.4.17 in /usr/local/lib/python3.10/dist-packages (from requests->ray[tune]) (2023.11.17)\n",
            "Requirement already satisfied: six>=1.5 in /usr/local/lib/python3.10/dist-packages (from python-dateutil>=2.8.1->pandas->ray[tune]) (1.16.0)\n"
          ]
        },
        {
          "output_type": "execute_result",
          "data": {
            "text/plain": [
              "<module 'ray.tune.tune' from '/usr/local/lib/python3.10/dist-packages/ray/tune/tune.py'>"
            ]
          },
          "metadata": {},
          "execution_count": 54
        }
      ]
    },
    {
      "cell_type": "code",
      "source": [
        "x_train_preprocessed = preprocessor.fit_transform(x_train)\n",
        "x_test_preprocessed = preprocessor.fit_transform(x_test)\n",
        "\n",
        "\n",
        "# Primero, se define la función que entrena y evalúa el modelo\n",
        "def train_knn(config):\n",
        "  # Crear y entrenar el modelo con el número de vecinos dado\n",
        "  model = KNeighborsRegressor(n_neighbors=config[\"n_neighbors\"], n_jobs=-1)\n",
        "  model.fit(x_train_preprocessed, y_train)\n",
        "  # Calcular la pérdida en el conjunto de prueba\n",
        "  loss = loss_function(model, x_test_preprocessed, y_test)\n",
        "  # Crear un diccionario con la función de pérdida como valor y una clave arbitraria\n",
        "  metrics = {\"loss\": loss}\n",
        "  # Reportar la pérdida a Ray Tune\n",
        "  # tune.report(loss=loss)\n",
        "  ray.train.report(metrics)\n",
        "\n",
        "# Definir el espacio de búsqueda para el número de vecinos\n",
        "search_space = {\n",
        "  \"n_neighbors\": tune.randint(5, 26)\n",
        "}\n",
        "\n",
        "# Iniciar el ajuste de hiperparámetros con Ray Tune y el algoritmo Hyperband\n",
        "analysis = tune.run(\n",
        "  train_knn, # La función que entrena y evalúa el modelo\n",
        "  config=search_space, # El espacio de búsqueda\n",
        "  metric=\"loss\", # La métrica a optimizar\n",
        "  mode=\"min\", # El modo de optimización (minimizar o maximizar)\n",
        "  scheduler=tune.schedulers.HyperBandScheduler() # El planificador que implementa Hyperband\n",
        ")\n",
        "\n",
        "# Obtener el mejor resultado\n",
        "best_trial = analysis.get_best_trial(metric=\"loss\", mode=\"min\")\n",
        "best_config = best_trial.config\n",
        "best_loss = best_trial.last_result[\"loss\"]\n",
        "\n",
        "# Mostrar el mejor resultado\n",
        "print(f\"El mejor modelo encontrado tiene una pérdida de {best_loss:.4f} y usa {best_config['n_neighbors']} vecinos.\")"
      ],
      "metadata": {
        "colab": {
          "base_uri": "https://localhost:8080/",
          "height": 1000
        },
        "id": "N3qsTCjXARXe",
        "outputId": "a23d6ec8-3ed9-4fe5-d400-9e4df069aa1e"
      },
      "execution_count": null,
      "outputs": [
        {
          "output_type": "stream",
          "name": "stderr",
          "text": [
            "2023-12-12 18:15:57,277\tINFO tune.py:595 -- [output] This will use the new output engine with verbosity 2. To disable the new output and use the legacy output engine, set the environment variable RAY_AIR_NEW_OUTPUT=0. For more information, please see https://github.com/ray-project/ray/issues/36949\n"
          ]
        },
        {
          "output_type": "stream",
          "name": "stdout",
          "text": [
            "+------------------------------------------------------------------+\n",
            "| Configuration for experiment     train_knn_2023-12-12_18-15-57   |\n",
            "+------------------------------------------------------------------+\n",
            "| Search algorithm                 BasicVariantGenerator           |\n",
            "| Scheduler                        HyperBandScheduler              |\n",
            "| Number of trials                 1                               |\n",
            "+------------------------------------------------------------------+\n",
            "\n",
            "View detailed results here: /root/ray_results/train_knn_2023-12-12_18-15-57\n",
            "To visualize your results with TensorBoard, run: `tensorboard --logdir /root/ray_results/train_knn_2023-12-12_18-15-57`\n",
            "\n",
            "Trial status: 1 PENDING\n",
            "Current time: 2023-12-12 18:15:57. Total running time: 0s\n",
            "Logical resource usage: 1.0/2 CPUs, 0/0 GPUs\n",
            "+--------------------------------------------------+\n",
            "| Trial name              status       n_neighbors |\n",
            "+--------------------------------------------------+\n",
            "| train_knn_7ef4e_00000   PENDING               20 |\n",
            "+--------------------------------------------------+\n",
            "\n",
            "Trial train_knn_7ef4e_00000 started with configuration:\n",
            "+-------------------------------------------+\n",
            "| Trial train_knn_7ef4e_00000 config        |\n",
            "+-------------------------------------------+\n",
            "| n_neighbors                            20 |\n",
            "+-------------------------------------------+\n"
          ]
        },
        {
          "output_type": "stream",
          "name": "stderr",
          "text": [
            "2023-12-12 18:16:01,007\tERROR tune_controller.py:1383 -- Trial task failed for trial train_knn_7ef4e_00000\n",
            "Traceback (most recent call last):\n",
            "  File \"/usr/local/lib/python3.10/dist-packages/ray/air/execution/_internal/event_manager.py\", line 110, in resolve_future\n",
            "    result = ray.get(future)\n",
            "  File \"/usr/local/lib/python3.10/dist-packages/ray/_private/auto_init_hook.py\", line 24, in auto_init_wrapper\n",
            "    return fn(*args, **kwargs)\n",
            "  File \"/usr/local/lib/python3.10/dist-packages/ray/_private/client_mode_hook.py\", line 103, in wrapper\n",
            "    return func(*args, **kwargs)\n",
            "  File \"/usr/local/lib/python3.10/dist-packages/ray/_private/worker.py\", line 2563, in get\n",
            "    raise value.as_instanceof_cause()\n",
            "ray.exceptions.RayTaskError(ValueError): \u001b[36mray::ImplicitFunc.train()\u001b[39m (pid=46946, ip=172.28.0.12, actor_id=6c414cab814d1fe92c2dad7201000000, repr=train_knn)\n",
            "  File \"/usr/local/lib/python3.10/dist-packages/ray/tune/trainable/trainable.py\", line 342, in train\n",
            "    raise skipped from exception_cause(skipped)\n",
            "  File \"/usr/local/lib/python3.10/dist-packages/ray/air/_internal/util.py\", line 91, in run\n",
            "    self._ret = self._target(*self._args, **self._kwargs)\n",
            "  File \"/usr/local/lib/python3.10/dist-packages/ray/tune/trainable/function_trainable.py\", line 115, in <lambda>\n",
            "    training_func=lambda: self._trainable_func(self.config),\n",
            "  File \"/usr/local/lib/python3.10/dist-packages/ray/tune/trainable/function_trainable.py\", line 332, in _trainable_func\n",
            "    output = fn()\n",
            "  File \"<ipython-input-56-a78636eede41>\", line 11, in train_knn\n",
            "  File \"<ipython-input-53-b5192a1fa71c>\", line 3, in loss_function\n",
            "  File \"/usr/local/lib/python3.10/dist-packages/sklearn/neighbors/_regression.py\", line 236, in predict\n",
            "    neigh_ind = self.kneighbors(X, return_distance=False)\n",
            "  File \"/usr/local/lib/python3.10/dist-packages/sklearn/neighbors/_base.py\", line 806, in kneighbors\n",
            "    X = self._validate_data(X, accept_sparse=\"csr\", reset=False, order=\"C\")\n",
            "  File \"/usr/local/lib/python3.10/dist-packages/sklearn/base.py\", line 588, in _validate_data\n",
            "    self._check_n_features(X, reset=reset)\n",
            "  File \"/usr/local/lib/python3.10/dist-packages/sklearn/base.py\", line 389, in _check_n_features\n",
            "    raise ValueError(\n",
            "ValueError: X has 130 features, but KNeighborsRegressor is expecting 131 features as input.\n"
          ]
        },
        {
          "output_type": "stream",
          "name": "stdout",
          "text": [
            "\n",
            "Trial train_knn_7ef4e_00000 errored after 0 iterations at 2023-12-12 18:16:01. Total running time: 3s\n",
            "Error file: /root/ray_results/train_knn_2023-12-12_18-15-57/train_knn_7ef4e_00000_0_n_neighbors=20_2023-12-12_18-15-57/error.txt\n",
            "\n",
            "Trial status: 1 ERROR\n",
            "Current time: 2023-12-12 18:16:01. Total running time: 3s\n",
            "Logical resource usage: 1.0/2 CPUs, 0/0 GPUs\n",
            "+--------------------------------------------------+\n",
            "| Trial name              status       n_neighbors |\n",
            "+--------------------------------------------------+\n",
            "| train_knn_7ef4e_00000   ERROR                 20 |\n",
            "+--------------------------------------------------+\n",
            "\n",
            "Number of errored trials: 1\n",
            "+-------------------------------------------------------------------------------------------------------------------------------------------------------------+\n",
            "| Trial name                # failures   error file                                                                                                           |\n",
            "+-------------------------------------------------------------------------------------------------------------------------------------------------------------+\n",
            "| train_knn_7ef4e_00000              1   /root/ray_results/train_knn_2023-12-12_18-15-57/train_knn_7ef4e_00000_0_n_neighbors=20_2023-12-12_18-15-57/error.txt |\n",
            "+-------------------------------------------------------------------------------------------------------------------------------------------------------------+\n",
            "\n"
          ]
        },
        {
          "output_type": "error",
          "ename": "TuneError",
          "evalue": "ignored",
          "traceback": [
            "\u001b[0;31m---------------------------------------------------------------------------\u001b[0m",
            "\u001b[0;31mTuneError\u001b[0m                                 Traceback (most recent call last)",
            "\u001b[0;32m<ipython-input-56-a78636eede41>\u001b[0m in \u001b[0;36m<cell line: 24>\u001b[0;34m()\u001b[0m\n\u001b[1;32m     22\u001b[0m \u001b[0;34m\u001b[0m\u001b[0m\n\u001b[1;32m     23\u001b[0m \u001b[0;31m# Iniciar el ajuste de hiperparámetros con Ray Tune y el algoritmo Hyperband\u001b[0m\u001b[0;34m\u001b[0m\u001b[0;34m\u001b[0m\u001b[0m\n\u001b[0;32m---> 24\u001b[0;31m analysis = tune.run(\n\u001b[0m\u001b[1;32m     25\u001b[0m   \u001b[0mtrain_knn\u001b[0m\u001b[0;34m,\u001b[0m \u001b[0;31m# La función que entrena y evalúa el modelo\u001b[0m\u001b[0;34m\u001b[0m\u001b[0;34m\u001b[0m\u001b[0m\n\u001b[1;32m     26\u001b[0m   \u001b[0mconfig\u001b[0m\u001b[0;34m=\u001b[0m\u001b[0msearch_space\u001b[0m\u001b[0;34m,\u001b[0m \u001b[0;31m# El espacio de búsqueda\u001b[0m\u001b[0;34m\u001b[0m\u001b[0;34m\u001b[0m\u001b[0m\n",
            "\u001b[0;32m/usr/local/lib/python3.10/dist-packages/ray/tune/tune.py\u001b[0m in \u001b[0;36mrun\u001b[0;34m(run_or_experiment, name, metric, mode, stop, time_budget_s, config, resources_per_trial, num_samples, storage_path, storage_filesystem, search_alg, scheduler, checkpoint_config, verbose, progress_reporter, log_to_file, trial_name_creator, trial_dirname_creator, sync_config, export_formats, max_failures, fail_fast, restore, server_port, resume, reuse_actors, raise_on_failed_trial, callbacks, max_concurrent_trials, keep_checkpoints_num, checkpoint_score_attr, checkpoint_freq, checkpoint_at_end, chdir_to_trial_dir, local_dir, _experiment_checkpoint_dir, _remote, _remote_string_queue, _entrypoint)\u001b[0m\n\u001b[1;32m   1039\u001b[0m     \u001b[0;32mif\u001b[0m \u001b[0mincomplete_trials\u001b[0m\u001b[0;34m:\u001b[0m\u001b[0;34m\u001b[0m\u001b[0;34m\u001b[0m\u001b[0m\n\u001b[1;32m   1040\u001b[0m         \u001b[0;32mif\u001b[0m \u001b[0mraise_on_failed_trial\u001b[0m \u001b[0;32mand\u001b[0m \u001b[0;32mnot\u001b[0m \u001b[0mexperiment_interrupted_event\u001b[0m\u001b[0;34m.\u001b[0m\u001b[0mis_set\u001b[0m\u001b[0;34m(\u001b[0m\u001b[0;34m)\u001b[0m\u001b[0;34m:\u001b[0m\u001b[0;34m\u001b[0m\u001b[0;34m\u001b[0m\u001b[0m\n\u001b[0;32m-> 1041\u001b[0;31m             \u001b[0;32mraise\u001b[0m \u001b[0mTuneError\u001b[0m\u001b[0;34m(\u001b[0m\u001b[0;34m\"Trials did not complete\"\u001b[0m\u001b[0;34m,\u001b[0m \u001b[0mincomplete_trials\u001b[0m\u001b[0;34m)\u001b[0m\u001b[0;34m\u001b[0m\u001b[0;34m\u001b[0m\u001b[0m\n\u001b[0m\u001b[1;32m   1042\u001b[0m         \u001b[0;32melse\u001b[0m\u001b[0;34m:\u001b[0m\u001b[0;34m\u001b[0m\u001b[0;34m\u001b[0m\u001b[0m\n\u001b[1;32m   1043\u001b[0m             \u001b[0mlogger\u001b[0m\u001b[0;34m.\u001b[0m\u001b[0merror\u001b[0m\u001b[0;34m(\u001b[0m\u001b[0;34m\"Trials did not complete: %s\"\u001b[0m\u001b[0;34m,\u001b[0m \u001b[0mincomplete_trials\u001b[0m\u001b[0;34m)\u001b[0m\u001b[0;34m\u001b[0m\u001b[0;34m\u001b[0m\u001b[0m\n",
            "\u001b[0;31mTuneError\u001b[0m: ('Trials did not complete', [train_knn_7ef4e_00000])"
          ]
        }
      ]
    },
    {
      "cell_type": "markdown",
      "source": [
        "## **Conclusiones**\n",
        "\n",
        "El objetivo principal del presente trabajo era predecir la radiación solar diaria en una planta solar de Oklahoma a partir de predicciones de variables meteorológicas del día anterior. Para llevar a cabo dichas predicciones se han puesto en práctica diversos métodos para construir modelos de regresión y extraer el modelo con el máximo rendimiento.\n",
        "\n",
        "En primer lugar se ha determinado cual es el mejor método de imputación y de escalado, entrenando y evaluando con un modelo KNN, esto nos ha hecho llegar a la conclusión de que el mejor método de imputación de variables numéricas es imputar con la media y para las variables categóricas es la moda. Por otra parte, se estandariza restando la media de cada variable y dividiendo por la desviación estándar.\n",
        "\n",
        "Una vez preprocesados los datos se han ajustado distintos modelos con y sin hiperparámetros para comparar sus rendimientos. En el caso de los métodos no ensambles se concluye que se maximiza el rendimiento de los modelos ajustando hiperparámetros, ocurre de la misma forma en el caso de los métodos ensambles, es decir, el rendimiento del modelo aumenta cuando se realiza ajuste de hiperparámetros.\n",
        "\n",
        "Profundizando en esto, podemos especificar que el mejor modelo extraído de los no ensamble ajustando hiperparámetros es un KNN con 7 vecinos obteniendo un coeficiente $R^2$ de 0.76. En cuanto al modelo extraído de los ensamble ajustando hiperparámetros es un RandomForest con 100 árboles y como número de predictores el logaritmo en base dos del total obteniendo un $R^2$ de 0.82.\n",
        "\n"
      ],
      "metadata": {
        "id": "w2MdkXiLKh2B"
      }
    }
  ]
}